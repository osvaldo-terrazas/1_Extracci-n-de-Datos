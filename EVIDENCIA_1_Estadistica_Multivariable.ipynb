{
  "cells": [
    {
      "cell_type": "markdown",
      "metadata": {
        "id": "view-in-github",
        "colab_type": "text"
      },
      "source": [
        "<a href=\"https://colab.research.google.com/github/osvaldo-terrazas/1_Extracci-n-de-Datos/blob/main/EVIDENCIA_1_Estadistica_Multivariable.ipynb\" target=\"_parent\"><img src=\"https://colab.research.google.com/assets/colab-badge.svg\" alt=\"Open In Colab\"/></a>"
      ]
    },
    {
      "cell_type": "markdown",
      "metadata": {
        "id": "myhWjA74De0l"
      },
      "source": [
        "##**Integrantes y roles:**\n",
        "\n",
        "**Osvaldo Terrazas Sánchez: Líder de Proyecto**\n",
        "\n",
        "Responsable de coordinar el equipo, organizar reuniones y asegurarse de que todos los integrantes estén alineados con los objetivos del proyecto. También supervisará la documentación y la presentación final.\n",
        "\n",
        "**Karen Doménica Vela Aguirre: Analista de Datos**\n",
        "\n",
        "Encargada de la exploración inicial de los datos, análisis de la estructura de datos, identificación de valores nulos, y generación de estadísticas descriptivas. También se centrará en la limpieza de datos y justificación de las decisiones tomadas.\n",
        "\n",
        "**Andre Álvarez Vizcaino: Desarrollador de Métricas y Visualizaciones**\n",
        "\n",
        "Responsable de proponer y calcular métricas de eficiencia, así como de crear visualizaciones relevantes que apoyen el análisis exploratorio. Deberá documentar la metodología de cálculo y establecer umbrales de evaluación.\n",
        "\n",
        "**Juan José Rodríguez Ochoa: Documentación y Presentación**\n",
        "\n",
        "Encargado de la redacción de la documentación del proyecto, incluyendo comentarios claros en el código, explicaciones en Markdown.\n"
      ]
    },
    {
      "cell_type": "markdown",
      "metadata": {
        "id": "PJ2pzIlyENDt"
      },
      "source": [
        "## **Fecha de Entrega**\n",
        "Semana 7"
      ]
    },
    {
      "cell_type": "markdown",
      "metadata": {
        "id": "VcylWL-nEWYh"
      },
      "source": [
        "## **Introducción**\n",
        "\n",
        "### ***Objetivo del Proyecto***\n",
        "\n",
        "Nuestro objetivo es analizar la eficiencia de los operadores de CallMeMaybe. A través del estudio de datos sobre llamadas entrantes y salientes, buscaremos identificar a los operadores menos eficaces, centrándonos en métricas como llamadas perdidas y tiempos de espera. Este análisis proporcionará información clave para mejorar la calidad del servicio y optimizar el rendimiento de la empresa.\n",
        "\n",
        "### ***Descripción del Problema***\n",
        "CallMeMaybe enfrenta dificultades para identificar a los operadores ineficaces, lo que afecta la satisfacción del cliente. Un operador es considerado ineficaz si tiene muchas llamadas perdidas, largos tiempos de espera y baja actividad en llamadas salientes. Esto dificulta la toma de decisiones de los supervisores para mejorar la eficiencia del servicio.\n",
        "\n",
        "### ***Descripción de los Datos Disponibles***\n",
        "Para el análisis, contamos con dos conjuntos de datos clave.\n",
        "\n",
        "El primero, telecom_dataset_us.csv, contiene información sobre las llamadas realizadas y recibidas en el call center, incluyendo columnas como user_id, date, direction, operator_id, is_missed_call, calls_count, call_duration y total_call_duration.\n",
        "\n",
        "El segundo conjunto, telecom_clientes_us.csv, proporciona datos sobre los clientes, incluyendo user_id, tariff_plan y date_start. Estos datos nos permitirán evaluar la eficiencia de los operadores y comprender el comportamiento de los clientes en relación con las llamadas.\n",
        "\n"
      ]
    },
    {
      "cell_type": "markdown",
      "metadata": {
        "id": "Um1Wsn0zIn_o"
      },
      "source": [
        "#**Plan de Trabajo**\n",
        "\n",
        "### ***Metodología a utilizar***\n",
        "Para llevar a cabo nuestro análisis, utilizaremos técnicas de clustering y regresión lineal.\n",
        "\n",
        "El clustering nos permitirá agrupar a los operadores según características similares, como el número de llamadas atendidas, llamadas perdidas y duración de las llamadas. Esto facilitará la identificación de patrones y la segmentación de los operadores ineficaces.\n",
        "\n",
        "Por otro lado, la regresión lineal se utilizará para analizar la relación entre variables clave, como el tiempo de espera y la cantidad de llamadas atendidas, lo que nos ayudará a predecir la eficiencia de los operadores y a establecer métricas de rendimiento.\n",
        "\n",
        "Combinando estas dos metodologías, podremos obtener una visión más completa y fundamentada sobre la eficiencia operativa en CallMeMaybe.\n",
        "### ***Distribución de tareas***\n"
      ]
    },
    {
      "cell_type": "markdown",
      "metadata": {
        "id": "G283QZbnEB7e"
      },
      "source": [
        "# **Librerías**"
      ]
    },
    {
      "cell_type": "code",
      "execution_count": 2,
      "metadata": {
        "id": "fK59_lV2C79x"
      },
      "outputs": [],
      "source": [
        "import seaborn as sns\n",
        "import matplotlib.pyplot as plt\n",
        "import pandas as pd\n",
        "import numpy as np\n",
        "import scipy.cluster.hierarchy as sch\n",
        "\n",
        "from sklearn.cluster import AgglomerativeClustering\n",
        "from sklearn.preprocessing import StandardScaler\n",
        "\n"
      ]
    },
    {
      "cell_type": "code",
      "execution_count": 3,
      "metadata": {
        "id": "ElFzj6BeBbNx",
        "colab": {
          "base_uri": "https://localhost:8080/",
          "height": 395
        },
        "outputId": "49110b79-f7ec-40b3-b052-f4f572cb2f95"
      },
      "outputs": [
        {
          "output_type": "display_data",
          "data": {
            "text/plain": [
              "   user_id tariff_plan  date_start\n",
              "0   166713           A  2019-08-15\n",
              "1   166901           A  2019-08-23\n",
              "2   168527           A  2019-10-29\n",
              "3   167097           A  2019-09-01\n",
              "4   168193           A  2019-10-16"
            ],
            "text/html": [
              "\n",
              "  <div id=\"df-ca8aaf0d-0dc3-42a0-a596-1044b67e9f6d\" class=\"colab-df-container\">\n",
              "    <div>\n",
              "<style scoped>\n",
              "    .dataframe tbody tr th:only-of-type {\n",
              "        vertical-align: middle;\n",
              "    }\n",
              "\n",
              "    .dataframe tbody tr th {\n",
              "        vertical-align: top;\n",
              "    }\n",
              "\n",
              "    .dataframe thead th {\n",
              "        text-align: right;\n",
              "    }\n",
              "</style>\n",
              "<table border=\"1\" class=\"dataframe\">\n",
              "  <thead>\n",
              "    <tr style=\"text-align: right;\">\n",
              "      <th></th>\n",
              "      <th>user_id</th>\n",
              "      <th>tariff_plan</th>\n",
              "      <th>date_start</th>\n",
              "    </tr>\n",
              "  </thead>\n",
              "  <tbody>\n",
              "    <tr>\n",
              "      <th>0</th>\n",
              "      <td>166713</td>\n",
              "      <td>A</td>\n",
              "      <td>2019-08-15</td>\n",
              "    </tr>\n",
              "    <tr>\n",
              "      <th>1</th>\n",
              "      <td>166901</td>\n",
              "      <td>A</td>\n",
              "      <td>2019-08-23</td>\n",
              "    </tr>\n",
              "    <tr>\n",
              "      <th>2</th>\n",
              "      <td>168527</td>\n",
              "      <td>A</td>\n",
              "      <td>2019-10-29</td>\n",
              "    </tr>\n",
              "    <tr>\n",
              "      <th>3</th>\n",
              "      <td>167097</td>\n",
              "      <td>A</td>\n",
              "      <td>2019-09-01</td>\n",
              "    </tr>\n",
              "    <tr>\n",
              "      <th>4</th>\n",
              "      <td>168193</td>\n",
              "      <td>A</td>\n",
              "      <td>2019-10-16</td>\n",
              "    </tr>\n",
              "  </tbody>\n",
              "</table>\n",
              "</div>\n",
              "    <div class=\"colab-df-buttons\">\n",
              "\n",
              "  <div class=\"colab-df-container\">\n",
              "    <button class=\"colab-df-convert\" onclick=\"convertToInteractive('df-ca8aaf0d-0dc3-42a0-a596-1044b67e9f6d')\"\n",
              "            title=\"Convert this dataframe to an interactive table.\"\n",
              "            style=\"display:none;\">\n",
              "\n",
              "  <svg xmlns=\"http://www.w3.org/2000/svg\" height=\"24px\" viewBox=\"0 -960 960 960\">\n",
              "    <path d=\"M120-120v-720h720v720H120Zm60-500h600v-160H180v160Zm220 220h160v-160H400v160Zm0 220h160v-160H400v160ZM180-400h160v-160H180v160Zm440 0h160v-160H620v160ZM180-180h160v-160H180v160Zm440 0h160v-160H620v160Z\"/>\n",
              "  </svg>\n",
              "    </button>\n",
              "\n",
              "  <style>\n",
              "    .colab-df-container {\n",
              "      display:flex;\n",
              "      gap: 12px;\n",
              "    }\n",
              "\n",
              "    .colab-df-convert {\n",
              "      background-color: #E8F0FE;\n",
              "      border: none;\n",
              "      border-radius: 50%;\n",
              "      cursor: pointer;\n",
              "      display: none;\n",
              "      fill: #1967D2;\n",
              "      height: 32px;\n",
              "      padding: 0 0 0 0;\n",
              "      width: 32px;\n",
              "    }\n",
              "\n",
              "    .colab-df-convert:hover {\n",
              "      background-color: #E2EBFA;\n",
              "      box-shadow: 0px 1px 2px rgba(60, 64, 67, 0.3), 0px 1px 3px 1px rgba(60, 64, 67, 0.15);\n",
              "      fill: #174EA6;\n",
              "    }\n",
              "\n",
              "    .colab-df-buttons div {\n",
              "      margin-bottom: 4px;\n",
              "    }\n",
              "\n",
              "    [theme=dark] .colab-df-convert {\n",
              "      background-color: #3B4455;\n",
              "      fill: #D2E3FC;\n",
              "    }\n",
              "\n",
              "    [theme=dark] .colab-df-convert:hover {\n",
              "      background-color: #434B5C;\n",
              "      box-shadow: 0px 1px 3px 1px rgba(0, 0, 0, 0.15);\n",
              "      filter: drop-shadow(0px 1px 2px rgba(0, 0, 0, 0.3));\n",
              "      fill: #FFFFFF;\n",
              "    }\n",
              "  </style>\n",
              "\n",
              "    <script>\n",
              "      const buttonEl =\n",
              "        document.querySelector('#df-ca8aaf0d-0dc3-42a0-a596-1044b67e9f6d button.colab-df-convert');\n",
              "      buttonEl.style.display =\n",
              "        google.colab.kernel.accessAllowed ? 'block' : 'none';\n",
              "\n",
              "      async function convertToInteractive(key) {\n",
              "        const element = document.querySelector('#df-ca8aaf0d-0dc3-42a0-a596-1044b67e9f6d');\n",
              "        const dataTable =\n",
              "          await google.colab.kernel.invokeFunction('convertToInteractive',\n",
              "                                                    [key], {});\n",
              "        if (!dataTable) return;\n",
              "\n",
              "        const docLinkHtml = 'Like what you see? Visit the ' +\n",
              "          '<a target=\"_blank\" href=https://colab.research.google.com/notebooks/data_table.ipynb>data table notebook</a>'\n",
              "          + ' to learn more about interactive tables.';\n",
              "        element.innerHTML = '';\n",
              "        dataTable['output_type'] = 'display_data';\n",
              "        await google.colab.output.renderOutput(dataTable, element);\n",
              "        const docLink = document.createElement('div');\n",
              "        docLink.innerHTML = docLinkHtml;\n",
              "        element.appendChild(docLink);\n",
              "      }\n",
              "    </script>\n",
              "  </div>\n",
              "\n",
              "\n",
              "<div id=\"df-6eca46d6-7d90-43c6-8622-cc9550fe7425\">\n",
              "  <button class=\"colab-df-quickchart\" onclick=\"quickchart('df-6eca46d6-7d90-43c6-8622-cc9550fe7425')\"\n",
              "            title=\"Suggest charts\"\n",
              "            style=\"display:none;\">\n",
              "\n",
              "<svg xmlns=\"http://www.w3.org/2000/svg\" height=\"24px\"viewBox=\"0 0 24 24\"\n",
              "     width=\"24px\">\n",
              "    <g>\n",
              "        <path d=\"M19 3H5c-1.1 0-2 .9-2 2v14c0 1.1.9 2 2 2h14c1.1 0 2-.9 2-2V5c0-1.1-.9-2-2-2zM9 17H7v-7h2v7zm4 0h-2V7h2v10zm4 0h-2v-4h2v4z\"/>\n",
              "    </g>\n",
              "</svg>\n",
              "  </button>\n",
              "\n",
              "<style>\n",
              "  .colab-df-quickchart {\n",
              "      --bg-color: #E8F0FE;\n",
              "      --fill-color: #1967D2;\n",
              "      --hover-bg-color: #E2EBFA;\n",
              "      --hover-fill-color: #174EA6;\n",
              "      --disabled-fill-color: #AAA;\n",
              "      --disabled-bg-color: #DDD;\n",
              "  }\n",
              "\n",
              "  [theme=dark] .colab-df-quickchart {\n",
              "      --bg-color: #3B4455;\n",
              "      --fill-color: #D2E3FC;\n",
              "      --hover-bg-color: #434B5C;\n",
              "      --hover-fill-color: #FFFFFF;\n",
              "      --disabled-bg-color: #3B4455;\n",
              "      --disabled-fill-color: #666;\n",
              "  }\n",
              "\n",
              "  .colab-df-quickchart {\n",
              "    background-color: var(--bg-color);\n",
              "    border: none;\n",
              "    border-radius: 50%;\n",
              "    cursor: pointer;\n",
              "    display: none;\n",
              "    fill: var(--fill-color);\n",
              "    height: 32px;\n",
              "    padding: 0;\n",
              "    width: 32px;\n",
              "  }\n",
              "\n",
              "  .colab-df-quickchart:hover {\n",
              "    background-color: var(--hover-bg-color);\n",
              "    box-shadow: 0 1px 2px rgba(60, 64, 67, 0.3), 0 1px 3px 1px rgba(60, 64, 67, 0.15);\n",
              "    fill: var(--button-hover-fill-color);\n",
              "  }\n",
              "\n",
              "  .colab-df-quickchart-complete:disabled,\n",
              "  .colab-df-quickchart-complete:disabled:hover {\n",
              "    background-color: var(--disabled-bg-color);\n",
              "    fill: var(--disabled-fill-color);\n",
              "    box-shadow: none;\n",
              "  }\n",
              "\n",
              "  .colab-df-spinner {\n",
              "    border: 2px solid var(--fill-color);\n",
              "    border-color: transparent;\n",
              "    border-bottom-color: var(--fill-color);\n",
              "    animation:\n",
              "      spin 1s steps(1) infinite;\n",
              "  }\n",
              "\n",
              "  @keyframes spin {\n",
              "    0% {\n",
              "      border-color: transparent;\n",
              "      border-bottom-color: var(--fill-color);\n",
              "      border-left-color: var(--fill-color);\n",
              "    }\n",
              "    20% {\n",
              "      border-color: transparent;\n",
              "      border-left-color: var(--fill-color);\n",
              "      border-top-color: var(--fill-color);\n",
              "    }\n",
              "    30% {\n",
              "      border-color: transparent;\n",
              "      border-left-color: var(--fill-color);\n",
              "      border-top-color: var(--fill-color);\n",
              "      border-right-color: var(--fill-color);\n",
              "    }\n",
              "    40% {\n",
              "      border-color: transparent;\n",
              "      border-right-color: var(--fill-color);\n",
              "      border-top-color: var(--fill-color);\n",
              "    }\n",
              "    60% {\n",
              "      border-color: transparent;\n",
              "      border-right-color: var(--fill-color);\n",
              "    }\n",
              "    80% {\n",
              "      border-color: transparent;\n",
              "      border-right-color: var(--fill-color);\n",
              "      border-bottom-color: var(--fill-color);\n",
              "    }\n",
              "    90% {\n",
              "      border-color: transparent;\n",
              "      border-bottom-color: var(--fill-color);\n",
              "    }\n",
              "  }\n",
              "</style>\n",
              "\n",
              "  <script>\n",
              "    async function quickchart(key) {\n",
              "      const quickchartButtonEl =\n",
              "        document.querySelector('#' + key + ' button');\n",
              "      quickchartButtonEl.disabled = true;  // To prevent multiple clicks.\n",
              "      quickchartButtonEl.classList.add('colab-df-spinner');\n",
              "      try {\n",
              "        const charts = await google.colab.kernel.invokeFunction(\n",
              "            'suggestCharts', [key], {});\n",
              "      } catch (error) {\n",
              "        console.error('Error during call to suggestCharts:', error);\n",
              "      }\n",
              "      quickchartButtonEl.classList.remove('colab-df-spinner');\n",
              "      quickchartButtonEl.classList.add('colab-df-quickchart-complete');\n",
              "    }\n",
              "    (() => {\n",
              "      let quickchartButtonEl =\n",
              "        document.querySelector('#df-6eca46d6-7d90-43c6-8622-cc9550fe7425 button');\n",
              "      quickchartButtonEl.style.display =\n",
              "        google.colab.kernel.accessAllowed ? 'block' : 'none';\n",
              "    })();\n",
              "  </script>\n",
              "</div>\n",
              "\n",
              "    </div>\n",
              "  </div>\n"
            ],
            "application/vnd.google.colaboratory.intrinsic+json": {
              "type": "dataframe",
              "summary": "{\n  \"name\": \"display(telecom_dataset\",\n  \"rows\": 5,\n  \"fields\": [\n    {\n      \"column\": \"user_id\",\n      \"properties\": {\n        \"dtype\": \"number\",\n        \"std\": 817,\n        \"min\": 166713,\n        \"max\": 168527,\n        \"num_unique_values\": 5,\n        \"samples\": [\n          166901,\n          168193,\n          168527\n        ],\n        \"semantic_type\": \"\",\n        \"description\": \"\"\n      }\n    },\n    {\n      \"column\": \"tariff_plan\",\n      \"properties\": {\n        \"dtype\": \"category\",\n        \"num_unique_values\": 1,\n        \"samples\": [\n          \"A\"\n        ],\n        \"semantic_type\": \"\",\n        \"description\": \"\"\n      }\n    },\n    {\n      \"column\": \"date_start\",\n      \"properties\": {\n        \"dtype\": \"object\",\n        \"num_unique_values\": 5,\n        \"samples\": [\n          \"2019-08-23\"\n        ],\n        \"semantic_type\": \"\",\n        \"description\": \"\"\n      }\n    }\n  ]\n}"
            }
          },
          "metadata": {}
        },
        {
          "output_type": "display_data",
          "data": {
            "text/plain": [
              "   user_id                       date direction internal  operator_id  \\\n",
              "0   166377  2019-08-04 00:00:00+03:00        in    False          NaN   \n",
              "1   166377  2019-08-05 00:00:00+03:00       out     True     880022.0   \n",
              "2   166377  2019-08-05 00:00:00+03:00       out     True     880020.0   \n",
              "3   166377  2019-08-05 00:00:00+03:00       out     True     880020.0   \n",
              "4   166377  2019-08-05 00:00:00+03:00       out    False     880022.0   \n",
              "\n",
              "   is_missed_call  calls_count  call_duration  total_call_duration  \n",
              "0            True            2              0                    4  \n",
              "1            True            3              0                    5  \n",
              "2            True            1              0                    1  \n",
              "3           False            1             10                   18  \n",
              "4            True            3              0                   25  "
            ],
            "text/html": [
              "\n",
              "  <div id=\"df-f158c36d-d972-4884-942c-ad448137e9ca\" class=\"colab-df-container\">\n",
              "    <div>\n",
              "<style scoped>\n",
              "    .dataframe tbody tr th:only-of-type {\n",
              "        vertical-align: middle;\n",
              "    }\n",
              "\n",
              "    .dataframe tbody tr th {\n",
              "        vertical-align: top;\n",
              "    }\n",
              "\n",
              "    .dataframe thead th {\n",
              "        text-align: right;\n",
              "    }\n",
              "</style>\n",
              "<table border=\"1\" class=\"dataframe\">\n",
              "  <thead>\n",
              "    <tr style=\"text-align: right;\">\n",
              "      <th></th>\n",
              "      <th>user_id</th>\n",
              "      <th>date</th>\n",
              "      <th>direction</th>\n",
              "      <th>internal</th>\n",
              "      <th>operator_id</th>\n",
              "      <th>is_missed_call</th>\n",
              "      <th>calls_count</th>\n",
              "      <th>call_duration</th>\n",
              "      <th>total_call_duration</th>\n",
              "    </tr>\n",
              "  </thead>\n",
              "  <tbody>\n",
              "    <tr>\n",
              "      <th>0</th>\n",
              "      <td>166377</td>\n",
              "      <td>2019-08-04 00:00:00+03:00</td>\n",
              "      <td>in</td>\n",
              "      <td>False</td>\n",
              "      <td>NaN</td>\n",
              "      <td>True</td>\n",
              "      <td>2</td>\n",
              "      <td>0</td>\n",
              "      <td>4</td>\n",
              "    </tr>\n",
              "    <tr>\n",
              "      <th>1</th>\n",
              "      <td>166377</td>\n",
              "      <td>2019-08-05 00:00:00+03:00</td>\n",
              "      <td>out</td>\n",
              "      <td>True</td>\n",
              "      <td>880022.0</td>\n",
              "      <td>True</td>\n",
              "      <td>3</td>\n",
              "      <td>0</td>\n",
              "      <td>5</td>\n",
              "    </tr>\n",
              "    <tr>\n",
              "      <th>2</th>\n",
              "      <td>166377</td>\n",
              "      <td>2019-08-05 00:00:00+03:00</td>\n",
              "      <td>out</td>\n",
              "      <td>True</td>\n",
              "      <td>880020.0</td>\n",
              "      <td>True</td>\n",
              "      <td>1</td>\n",
              "      <td>0</td>\n",
              "      <td>1</td>\n",
              "    </tr>\n",
              "    <tr>\n",
              "      <th>3</th>\n",
              "      <td>166377</td>\n",
              "      <td>2019-08-05 00:00:00+03:00</td>\n",
              "      <td>out</td>\n",
              "      <td>True</td>\n",
              "      <td>880020.0</td>\n",
              "      <td>False</td>\n",
              "      <td>1</td>\n",
              "      <td>10</td>\n",
              "      <td>18</td>\n",
              "    </tr>\n",
              "    <tr>\n",
              "      <th>4</th>\n",
              "      <td>166377</td>\n",
              "      <td>2019-08-05 00:00:00+03:00</td>\n",
              "      <td>out</td>\n",
              "      <td>False</td>\n",
              "      <td>880022.0</td>\n",
              "      <td>True</td>\n",
              "      <td>3</td>\n",
              "      <td>0</td>\n",
              "      <td>25</td>\n",
              "    </tr>\n",
              "  </tbody>\n",
              "</table>\n",
              "</div>\n",
              "    <div class=\"colab-df-buttons\">\n",
              "\n",
              "  <div class=\"colab-df-container\">\n",
              "    <button class=\"colab-df-convert\" onclick=\"convertToInteractive('df-f158c36d-d972-4884-942c-ad448137e9ca')\"\n",
              "            title=\"Convert this dataframe to an interactive table.\"\n",
              "            style=\"display:none;\">\n",
              "\n",
              "  <svg xmlns=\"http://www.w3.org/2000/svg\" height=\"24px\" viewBox=\"0 -960 960 960\">\n",
              "    <path d=\"M120-120v-720h720v720H120Zm60-500h600v-160H180v160Zm220 220h160v-160H400v160Zm0 220h160v-160H400v160ZM180-400h160v-160H180v160Zm440 0h160v-160H620v160ZM180-180h160v-160H180v160Zm440 0h160v-160H620v160Z\"/>\n",
              "  </svg>\n",
              "    </button>\n",
              "\n",
              "  <style>\n",
              "    .colab-df-container {\n",
              "      display:flex;\n",
              "      gap: 12px;\n",
              "    }\n",
              "\n",
              "    .colab-df-convert {\n",
              "      background-color: #E8F0FE;\n",
              "      border: none;\n",
              "      border-radius: 50%;\n",
              "      cursor: pointer;\n",
              "      display: none;\n",
              "      fill: #1967D2;\n",
              "      height: 32px;\n",
              "      padding: 0 0 0 0;\n",
              "      width: 32px;\n",
              "    }\n",
              "\n",
              "    .colab-df-convert:hover {\n",
              "      background-color: #E2EBFA;\n",
              "      box-shadow: 0px 1px 2px rgba(60, 64, 67, 0.3), 0px 1px 3px 1px rgba(60, 64, 67, 0.15);\n",
              "      fill: #174EA6;\n",
              "    }\n",
              "\n",
              "    .colab-df-buttons div {\n",
              "      margin-bottom: 4px;\n",
              "    }\n",
              "\n",
              "    [theme=dark] .colab-df-convert {\n",
              "      background-color: #3B4455;\n",
              "      fill: #D2E3FC;\n",
              "    }\n",
              "\n",
              "    [theme=dark] .colab-df-convert:hover {\n",
              "      background-color: #434B5C;\n",
              "      box-shadow: 0px 1px 3px 1px rgba(0, 0, 0, 0.15);\n",
              "      filter: drop-shadow(0px 1px 2px rgba(0, 0, 0, 0.3));\n",
              "      fill: #FFFFFF;\n",
              "    }\n",
              "  </style>\n",
              "\n",
              "    <script>\n",
              "      const buttonEl =\n",
              "        document.querySelector('#df-f158c36d-d972-4884-942c-ad448137e9ca button.colab-df-convert');\n",
              "      buttonEl.style.display =\n",
              "        google.colab.kernel.accessAllowed ? 'block' : 'none';\n",
              "\n",
              "      async function convertToInteractive(key) {\n",
              "        const element = document.querySelector('#df-f158c36d-d972-4884-942c-ad448137e9ca');\n",
              "        const dataTable =\n",
              "          await google.colab.kernel.invokeFunction('convertToInteractive',\n",
              "                                                    [key], {});\n",
              "        if (!dataTable) return;\n",
              "\n",
              "        const docLinkHtml = 'Like what you see? Visit the ' +\n",
              "          '<a target=\"_blank\" href=https://colab.research.google.com/notebooks/data_table.ipynb>data table notebook</a>'\n",
              "          + ' to learn more about interactive tables.';\n",
              "        element.innerHTML = '';\n",
              "        dataTable['output_type'] = 'display_data';\n",
              "        await google.colab.output.renderOutput(dataTable, element);\n",
              "        const docLink = document.createElement('div');\n",
              "        docLink.innerHTML = docLinkHtml;\n",
              "        element.appendChild(docLink);\n",
              "      }\n",
              "    </script>\n",
              "  </div>\n",
              "\n",
              "\n",
              "<div id=\"df-fed83088-7835-4524-ad8a-d213205b0e12\">\n",
              "  <button class=\"colab-df-quickchart\" onclick=\"quickchart('df-fed83088-7835-4524-ad8a-d213205b0e12')\"\n",
              "            title=\"Suggest charts\"\n",
              "            style=\"display:none;\">\n",
              "\n",
              "<svg xmlns=\"http://www.w3.org/2000/svg\" height=\"24px\"viewBox=\"0 0 24 24\"\n",
              "     width=\"24px\">\n",
              "    <g>\n",
              "        <path d=\"M19 3H5c-1.1 0-2 .9-2 2v14c0 1.1.9 2 2 2h14c1.1 0 2-.9 2-2V5c0-1.1-.9-2-2-2zM9 17H7v-7h2v7zm4 0h-2V7h2v10zm4 0h-2v-4h2v4z\"/>\n",
              "    </g>\n",
              "</svg>\n",
              "  </button>\n",
              "\n",
              "<style>\n",
              "  .colab-df-quickchart {\n",
              "      --bg-color: #E8F0FE;\n",
              "      --fill-color: #1967D2;\n",
              "      --hover-bg-color: #E2EBFA;\n",
              "      --hover-fill-color: #174EA6;\n",
              "      --disabled-fill-color: #AAA;\n",
              "      --disabled-bg-color: #DDD;\n",
              "  }\n",
              "\n",
              "  [theme=dark] .colab-df-quickchart {\n",
              "      --bg-color: #3B4455;\n",
              "      --fill-color: #D2E3FC;\n",
              "      --hover-bg-color: #434B5C;\n",
              "      --hover-fill-color: #FFFFFF;\n",
              "      --disabled-bg-color: #3B4455;\n",
              "      --disabled-fill-color: #666;\n",
              "  }\n",
              "\n",
              "  .colab-df-quickchart {\n",
              "    background-color: var(--bg-color);\n",
              "    border: none;\n",
              "    border-radius: 50%;\n",
              "    cursor: pointer;\n",
              "    display: none;\n",
              "    fill: var(--fill-color);\n",
              "    height: 32px;\n",
              "    padding: 0;\n",
              "    width: 32px;\n",
              "  }\n",
              "\n",
              "  .colab-df-quickchart:hover {\n",
              "    background-color: var(--hover-bg-color);\n",
              "    box-shadow: 0 1px 2px rgba(60, 64, 67, 0.3), 0 1px 3px 1px rgba(60, 64, 67, 0.15);\n",
              "    fill: var(--button-hover-fill-color);\n",
              "  }\n",
              "\n",
              "  .colab-df-quickchart-complete:disabled,\n",
              "  .colab-df-quickchart-complete:disabled:hover {\n",
              "    background-color: var(--disabled-bg-color);\n",
              "    fill: var(--disabled-fill-color);\n",
              "    box-shadow: none;\n",
              "  }\n",
              "\n",
              "  .colab-df-spinner {\n",
              "    border: 2px solid var(--fill-color);\n",
              "    border-color: transparent;\n",
              "    border-bottom-color: var(--fill-color);\n",
              "    animation:\n",
              "      spin 1s steps(1) infinite;\n",
              "  }\n",
              "\n",
              "  @keyframes spin {\n",
              "    0% {\n",
              "      border-color: transparent;\n",
              "      border-bottom-color: var(--fill-color);\n",
              "      border-left-color: var(--fill-color);\n",
              "    }\n",
              "    20% {\n",
              "      border-color: transparent;\n",
              "      border-left-color: var(--fill-color);\n",
              "      border-top-color: var(--fill-color);\n",
              "    }\n",
              "    30% {\n",
              "      border-color: transparent;\n",
              "      border-left-color: var(--fill-color);\n",
              "      border-top-color: var(--fill-color);\n",
              "      border-right-color: var(--fill-color);\n",
              "    }\n",
              "    40% {\n",
              "      border-color: transparent;\n",
              "      border-right-color: var(--fill-color);\n",
              "      border-top-color: var(--fill-color);\n",
              "    }\n",
              "    60% {\n",
              "      border-color: transparent;\n",
              "      border-right-color: var(--fill-color);\n",
              "    }\n",
              "    80% {\n",
              "      border-color: transparent;\n",
              "      border-right-color: var(--fill-color);\n",
              "      border-bottom-color: var(--fill-color);\n",
              "    }\n",
              "    90% {\n",
              "      border-color: transparent;\n",
              "      border-bottom-color: var(--fill-color);\n",
              "    }\n",
              "  }\n",
              "</style>\n",
              "\n",
              "  <script>\n",
              "    async function quickchart(key) {\n",
              "      const quickchartButtonEl =\n",
              "        document.querySelector('#' + key + ' button');\n",
              "      quickchartButtonEl.disabled = true;  // To prevent multiple clicks.\n",
              "      quickchartButtonEl.classList.add('colab-df-spinner');\n",
              "      try {\n",
              "        const charts = await google.colab.kernel.invokeFunction(\n",
              "            'suggestCharts', [key], {});\n",
              "      } catch (error) {\n",
              "        console.error('Error during call to suggestCharts:', error);\n",
              "      }\n",
              "      quickchartButtonEl.classList.remove('colab-df-spinner');\n",
              "      quickchartButtonEl.classList.add('colab-df-quickchart-complete');\n",
              "    }\n",
              "    (() => {\n",
              "      let quickchartButtonEl =\n",
              "        document.querySelector('#df-fed83088-7835-4524-ad8a-d213205b0e12 button');\n",
              "      quickchartButtonEl.style.display =\n",
              "        google.colab.kernel.accessAllowed ? 'block' : 'none';\n",
              "    })();\n",
              "  </script>\n",
              "</div>\n",
              "\n",
              "    </div>\n",
              "  </div>\n"
            ],
            "application/vnd.google.colaboratory.intrinsic+json": {
              "type": "dataframe",
              "summary": "{\n  \"name\": \"display(telecom_dataset\",\n  \"rows\": 5,\n  \"fields\": [\n    {\n      \"column\": \"user_id\",\n      \"properties\": {\n        \"dtype\": \"number\",\n        \"std\": 0,\n        \"min\": 166377,\n        \"max\": 166377,\n        \"num_unique_values\": 1,\n        \"samples\": [\n          166377\n        ],\n        \"semantic_type\": \"\",\n        \"description\": \"\"\n      }\n    },\n    {\n      \"column\": \"date\",\n      \"properties\": {\n        \"dtype\": \"object\",\n        \"num_unique_values\": 2,\n        \"samples\": [\n          \"2019-08-05 00:00:00+03:00\"\n        ],\n        \"semantic_type\": \"\",\n        \"description\": \"\"\n      }\n    },\n    {\n      \"column\": \"direction\",\n      \"properties\": {\n        \"dtype\": \"category\",\n        \"num_unique_values\": 2,\n        \"samples\": [\n          \"out\"\n        ],\n        \"semantic_type\": \"\",\n        \"description\": \"\"\n      }\n    },\n    {\n      \"column\": \"internal\",\n      \"properties\": {\n        \"dtype\": \"category\",\n        \"num_unique_values\": 2,\n        \"samples\": [\n          true\n        ],\n        \"semantic_type\": \"\",\n        \"description\": \"\"\n      }\n    },\n    {\n      \"column\": \"operator_id\",\n      \"properties\": {\n        \"dtype\": \"number\",\n        \"std\": 1.1547005383792515,\n        \"min\": 880020.0,\n        \"max\": 880022.0,\n        \"num_unique_values\": 2,\n        \"samples\": [\n          880020.0\n        ],\n        \"semantic_type\": \"\",\n        \"description\": \"\"\n      }\n    },\n    {\n      \"column\": \"is_missed_call\",\n      \"properties\": {\n        \"dtype\": \"boolean\",\n        \"num_unique_values\": 2,\n        \"samples\": [\n          false\n        ],\n        \"semantic_type\": \"\",\n        \"description\": \"\"\n      }\n    },\n    {\n      \"column\": \"calls_count\",\n      \"properties\": {\n        \"dtype\": \"number\",\n        \"std\": 1,\n        \"min\": 1,\n        \"max\": 3,\n        \"num_unique_values\": 3,\n        \"samples\": [\n          2\n        ],\n        \"semantic_type\": \"\",\n        \"description\": \"\"\n      }\n    },\n    {\n      \"column\": \"call_duration\",\n      \"properties\": {\n        \"dtype\": \"number\",\n        \"std\": 4,\n        \"min\": 0,\n        \"max\": 10,\n        \"num_unique_values\": 2,\n        \"samples\": [\n          10\n        ],\n        \"semantic_type\": \"\",\n        \"description\": \"\"\n      }\n    },\n    {\n      \"column\": \"total_call_duration\",\n      \"properties\": {\n        \"dtype\": \"number\",\n        \"std\": 10,\n        \"min\": 1,\n        \"max\": 25,\n        \"num_unique_values\": 5,\n        \"samples\": [\n          5\n        ],\n        \"semantic_type\": \"\",\n        \"description\": \"\"\n      }\n    }\n  ]\n}"
            }
          },
          "metadata": {}
        }
      ],
      "source": [
        "telecom_clients = pd.read_csv('telecom_clients_us.csv')\n",
        "telecom_dataset = pd.read_csv('telecom_dataset_us.csv')\n",
        "display(telecom_clients.head())\n",
        "display(telecom_dataset.head())"
      ]
    },
    {
      "cell_type": "markdown",
      "source": [
        "En esta seccion sera necesario que verifiquemos utilizar el tipo de dato adecuado. \"tariff plan\" deberá ser categorico, \"date start\" debera ser fecha"
      ],
      "metadata": {
        "id": "VOZs7VypED4A"
      }
    },
    {
      "cell_type": "markdown",
      "metadata": {
        "id": "XDBp5D5s9bqT"
      },
      "source": [
        "***TELECOM CLIENTS***"
      ]
    },
    {
      "cell_type": "code",
      "execution_count": 4,
      "metadata": {
        "colab": {
          "base_uri": "https://localhost:8080/"
        },
        "id": "I3oF-j2WCw-w",
        "outputId": "d8f669ab-65ce-4a93-fcda-2283c9922205"
      },
      "outputs": [
        {
          "output_type": "stream",
          "name": "stdout",
          "text": [
            "<class 'pandas.core.frame.DataFrame'>\n",
            "RangeIndex: 732 entries, 0 to 731\n",
            "Data columns (total 3 columns):\n",
            " #   Column       Non-Null Count  Dtype \n",
            "---  ------       --------------  ----- \n",
            " 0   user_id      732 non-null    int64 \n",
            " 1   tariff_plan  732 non-null    object\n",
            " 2   date_start   732 non-null    object\n",
            "dtypes: int64(1), object(2)\n",
            "memory usage: 17.3+ KB\n"
          ]
        }
      ],
      "source": [
        "telecom_clients.info()"
      ]
    },
    {
      "cell_type": "code",
      "source": [
        "telecom_clients.isnull().sum()"
      ],
      "metadata": {
        "colab": {
          "base_uri": "https://localhost:8080/",
          "height": 178
        },
        "id": "wGo61cUAvRsN",
        "outputId": "135b31a8-59ba-4a98-b803-c35fa24a9539"
      },
      "execution_count": 5,
      "outputs": [
        {
          "output_type": "execute_result",
          "data": {
            "text/plain": [
              "user_id        0\n",
              "tariff_plan    0\n",
              "date_start     0\n",
              "dtype: int64"
            ],
            "text/html": [
              "<div>\n",
              "<style scoped>\n",
              "    .dataframe tbody tr th:only-of-type {\n",
              "        vertical-align: middle;\n",
              "    }\n",
              "\n",
              "    .dataframe tbody tr th {\n",
              "        vertical-align: top;\n",
              "    }\n",
              "\n",
              "    .dataframe thead th {\n",
              "        text-align: right;\n",
              "    }\n",
              "</style>\n",
              "<table border=\"1\" class=\"dataframe\">\n",
              "  <thead>\n",
              "    <tr style=\"text-align: right;\">\n",
              "      <th></th>\n",
              "      <th>0</th>\n",
              "    </tr>\n",
              "  </thead>\n",
              "  <tbody>\n",
              "    <tr>\n",
              "      <th>user_id</th>\n",
              "      <td>0</td>\n",
              "    </tr>\n",
              "    <tr>\n",
              "      <th>tariff_plan</th>\n",
              "      <td>0</td>\n",
              "    </tr>\n",
              "    <tr>\n",
              "      <th>date_start</th>\n",
              "      <td>0</td>\n",
              "    </tr>\n",
              "  </tbody>\n",
              "</table>\n",
              "</div><br><label><b>dtype:</b> int64</label>"
            ]
          },
          "metadata": {},
          "execution_count": 5
        }
      ]
    },
    {
      "cell_type": "code",
      "execution_count": 6,
      "metadata": {
        "colab": {
          "base_uri": "https://localhost:8080/",
          "height": 81
        },
        "id": "SVur7dAK8BEq",
        "outputId": "a13e0bf8-ee39-4c96-f68f-98873fce0fa8"
      },
      "outputs": [
        {
          "output_type": "execute_result",
          "data": {
            "text/plain": [
              "         count           mean         std       min        25%       50%  \\\n",
              "user_id  732.0  167431.927596  633.810383  166373.0  166900.75  167432.0   \n",
              "\n",
              "              75%       max  \n",
              "user_id  167973.0  168606.0  "
            ],
            "text/html": [
              "\n",
              "  <div id=\"df-21363e44-2e35-48dc-bb5a-385f1bc58d43\" class=\"colab-df-container\">\n",
              "    <div>\n",
              "<style scoped>\n",
              "    .dataframe tbody tr th:only-of-type {\n",
              "        vertical-align: middle;\n",
              "    }\n",
              "\n",
              "    .dataframe tbody tr th {\n",
              "        vertical-align: top;\n",
              "    }\n",
              "\n",
              "    .dataframe thead th {\n",
              "        text-align: right;\n",
              "    }\n",
              "</style>\n",
              "<table border=\"1\" class=\"dataframe\">\n",
              "  <thead>\n",
              "    <tr style=\"text-align: right;\">\n",
              "      <th></th>\n",
              "      <th>count</th>\n",
              "      <th>mean</th>\n",
              "      <th>std</th>\n",
              "      <th>min</th>\n",
              "      <th>25%</th>\n",
              "      <th>50%</th>\n",
              "      <th>75%</th>\n",
              "      <th>max</th>\n",
              "    </tr>\n",
              "  </thead>\n",
              "  <tbody>\n",
              "    <tr>\n",
              "      <th>user_id</th>\n",
              "      <td>732.0</td>\n",
              "      <td>167431.927596</td>\n",
              "      <td>633.810383</td>\n",
              "      <td>166373.0</td>\n",
              "      <td>166900.75</td>\n",
              "      <td>167432.0</td>\n",
              "      <td>167973.0</td>\n",
              "      <td>168606.0</td>\n",
              "    </tr>\n",
              "  </tbody>\n",
              "</table>\n",
              "</div>\n",
              "    <div class=\"colab-df-buttons\">\n",
              "\n",
              "  <div class=\"colab-df-container\">\n",
              "    <button class=\"colab-df-convert\" onclick=\"convertToInteractive('df-21363e44-2e35-48dc-bb5a-385f1bc58d43')\"\n",
              "            title=\"Convert this dataframe to an interactive table.\"\n",
              "            style=\"display:none;\">\n",
              "\n",
              "  <svg xmlns=\"http://www.w3.org/2000/svg\" height=\"24px\" viewBox=\"0 -960 960 960\">\n",
              "    <path d=\"M120-120v-720h720v720H120Zm60-500h600v-160H180v160Zm220 220h160v-160H400v160Zm0 220h160v-160H400v160ZM180-400h160v-160H180v160Zm440 0h160v-160H620v160ZM180-180h160v-160H180v160Zm440 0h160v-160H620v160Z\"/>\n",
              "  </svg>\n",
              "    </button>\n",
              "\n",
              "  <style>\n",
              "    .colab-df-container {\n",
              "      display:flex;\n",
              "      gap: 12px;\n",
              "    }\n",
              "\n",
              "    .colab-df-convert {\n",
              "      background-color: #E8F0FE;\n",
              "      border: none;\n",
              "      border-radius: 50%;\n",
              "      cursor: pointer;\n",
              "      display: none;\n",
              "      fill: #1967D2;\n",
              "      height: 32px;\n",
              "      padding: 0 0 0 0;\n",
              "      width: 32px;\n",
              "    }\n",
              "\n",
              "    .colab-df-convert:hover {\n",
              "      background-color: #E2EBFA;\n",
              "      box-shadow: 0px 1px 2px rgba(60, 64, 67, 0.3), 0px 1px 3px 1px rgba(60, 64, 67, 0.15);\n",
              "      fill: #174EA6;\n",
              "    }\n",
              "\n",
              "    .colab-df-buttons div {\n",
              "      margin-bottom: 4px;\n",
              "    }\n",
              "\n",
              "    [theme=dark] .colab-df-convert {\n",
              "      background-color: #3B4455;\n",
              "      fill: #D2E3FC;\n",
              "    }\n",
              "\n",
              "    [theme=dark] .colab-df-convert:hover {\n",
              "      background-color: #434B5C;\n",
              "      box-shadow: 0px 1px 3px 1px rgba(0, 0, 0, 0.15);\n",
              "      filter: drop-shadow(0px 1px 2px rgba(0, 0, 0, 0.3));\n",
              "      fill: #FFFFFF;\n",
              "    }\n",
              "  </style>\n",
              "\n",
              "    <script>\n",
              "      const buttonEl =\n",
              "        document.querySelector('#df-21363e44-2e35-48dc-bb5a-385f1bc58d43 button.colab-df-convert');\n",
              "      buttonEl.style.display =\n",
              "        google.colab.kernel.accessAllowed ? 'block' : 'none';\n",
              "\n",
              "      async function convertToInteractive(key) {\n",
              "        const element = document.querySelector('#df-21363e44-2e35-48dc-bb5a-385f1bc58d43');\n",
              "        const dataTable =\n",
              "          await google.colab.kernel.invokeFunction('convertToInteractive',\n",
              "                                                    [key], {});\n",
              "        if (!dataTable) return;\n",
              "\n",
              "        const docLinkHtml = 'Like what you see? Visit the ' +\n",
              "          '<a target=\"_blank\" href=https://colab.research.google.com/notebooks/data_table.ipynb>data table notebook</a>'\n",
              "          + ' to learn more about interactive tables.';\n",
              "        element.innerHTML = '';\n",
              "        dataTable['output_type'] = 'display_data';\n",
              "        await google.colab.output.renderOutput(dataTable, element);\n",
              "        const docLink = document.createElement('div');\n",
              "        docLink.innerHTML = docLinkHtml;\n",
              "        element.appendChild(docLink);\n",
              "      }\n",
              "    </script>\n",
              "  </div>\n",
              "\n",
              "\n",
              "    </div>\n",
              "  </div>\n"
            ],
            "application/vnd.google.colaboratory.intrinsic+json": {
              "type": "dataframe",
              "summary": "{\n  \"name\": \"telecom_clients\",\n  \"rows\": 1,\n  \"fields\": [\n    {\n      \"column\": \"count\",\n      \"properties\": {\n        \"dtype\": \"number\",\n        \"std\": null,\n        \"min\": 732.0,\n        \"max\": 732.0,\n        \"num_unique_values\": 1,\n        \"samples\": [\n          732.0\n        ],\n        \"semantic_type\": \"\",\n        \"description\": \"\"\n      }\n    },\n    {\n      \"column\": \"mean\",\n      \"properties\": {\n        \"dtype\": \"number\",\n        \"std\": null,\n        \"min\": 167431.92759562843,\n        \"max\": 167431.92759562843,\n        \"num_unique_values\": 1,\n        \"samples\": [\n          167431.92759562843\n        ],\n        \"semantic_type\": \"\",\n        \"description\": \"\"\n      }\n    },\n    {\n      \"column\": \"std\",\n      \"properties\": {\n        \"dtype\": \"number\",\n        \"std\": null,\n        \"min\": 633.810383425183,\n        \"max\": 633.810383425183,\n        \"num_unique_values\": 1,\n        \"samples\": [\n          633.810383425183\n        ],\n        \"semantic_type\": \"\",\n        \"description\": \"\"\n      }\n    },\n    {\n      \"column\": \"min\",\n      \"properties\": {\n        \"dtype\": \"number\",\n        \"std\": null,\n        \"min\": 166373.0,\n        \"max\": 166373.0,\n        \"num_unique_values\": 1,\n        \"samples\": [\n          166373.0\n        ],\n        \"semantic_type\": \"\",\n        \"description\": \"\"\n      }\n    },\n    {\n      \"column\": \"25%\",\n      \"properties\": {\n        \"dtype\": \"number\",\n        \"std\": null,\n        \"min\": 166900.75,\n        \"max\": 166900.75,\n        \"num_unique_values\": 1,\n        \"samples\": [\n          166900.75\n        ],\n        \"semantic_type\": \"\",\n        \"description\": \"\"\n      }\n    },\n    {\n      \"column\": \"50%\",\n      \"properties\": {\n        \"dtype\": \"number\",\n        \"std\": null,\n        \"min\": 167432.0,\n        \"max\": 167432.0,\n        \"num_unique_values\": 1,\n        \"samples\": [\n          167432.0\n        ],\n        \"semantic_type\": \"\",\n        \"description\": \"\"\n      }\n    },\n    {\n      \"column\": \"75%\",\n      \"properties\": {\n        \"dtype\": \"number\",\n        \"std\": null,\n        \"min\": 167973.0,\n        \"max\": 167973.0,\n        \"num_unique_values\": 1,\n        \"samples\": [\n          167973.0\n        ],\n        \"semantic_type\": \"\",\n        \"description\": \"\"\n      }\n    },\n    {\n      \"column\": \"max\",\n      \"properties\": {\n        \"dtype\": \"number\",\n        \"std\": null,\n        \"min\": 168606.0,\n        \"max\": 168606.0,\n        \"num_unique_values\": 1,\n        \"samples\": [\n          168606.0\n        ],\n        \"semantic_type\": \"\",\n        \"description\": \"\"\n      }\n    }\n  ]\n}"
            }
          },
          "metadata": {},
          "execution_count": 6
        }
      ],
      "source": [
        "telecom_clients.describe().T"
      ]
    },
    {
      "cell_type": "markdown",
      "source": [
        "**LIMPIEZA TELECOM CLIENTS**"
      ],
      "metadata": {
        "id": "jOwZmjYzwQHD"
      }
    },
    {
      "cell_type": "code",
      "source": [
        "# Convertir tariff_plan a tipo categórico\n",
        "telecom_clients['tariff_plan'] = telecom_clients['tariff_plan'].astype('category')\n",
        "\n",
        "# Convertir date_start a tipo de fecha\n",
        "telecom_clients['date_start'] = pd.to_datetime(telecom_clients['date_start'])"
      ],
      "metadata": {
        "id": "lICiZJYdwV4G"
      },
      "execution_count": 7,
      "outputs": []
    },
    {
      "cell_type": "code",
      "source": [
        "telecom_clients.info()"
      ],
      "metadata": {
        "colab": {
          "base_uri": "https://localhost:8080/"
        },
        "id": "IlU1rz-Ew-hx",
        "outputId": "891a89e9-1bb1-4f7c-f4f3-2f748f302a52"
      },
      "execution_count": 8,
      "outputs": [
        {
          "output_type": "stream",
          "name": "stdout",
          "text": [
            "<class 'pandas.core.frame.DataFrame'>\n",
            "RangeIndex: 732 entries, 0 to 731\n",
            "Data columns (total 3 columns):\n",
            " #   Column       Non-Null Count  Dtype         \n",
            "---  ------       --------------  -----         \n",
            " 0   user_id      732 non-null    int64         \n",
            " 1   tariff_plan  732 non-null    category      \n",
            " 2   date_start   732 non-null    datetime64[ns]\n",
            "dtypes: category(1), datetime64[ns](1), int64(1)\n",
            "memory usage: 12.4 KB\n"
          ]
        }
      ]
    },
    {
      "cell_type": "markdown",
      "source": [
        "telecom_clients NO TIENE VALORES NULOS"
      ],
      "metadata": {
        "id": "45GIct_AD-Ph"
      }
    },
    {
      "cell_type": "markdown",
      "metadata": {
        "id": "zjthak_g9jFH"
      },
      "source": [
        "***TELECOM DATASET***"
      ]
    },
    {
      "cell_type": "code",
      "source": [
        "telecom_dataset.info()"
      ],
      "metadata": {
        "colab": {
          "base_uri": "https://localhost:8080/"
        },
        "id": "wSPrRsZavmCi",
        "outputId": "b604c981-ef77-466a-be02-ce34044dffd3"
      },
      "execution_count": 10,
      "outputs": [
        {
          "output_type": "stream",
          "name": "stdout",
          "text": [
            "<class 'pandas.core.frame.DataFrame'>\n",
            "RangeIndex: 53902 entries, 0 to 53901\n",
            "Data columns (total 9 columns):\n",
            " #   Column               Non-Null Count  Dtype  \n",
            "---  ------               --------------  -----  \n",
            " 0   user_id              53902 non-null  int64  \n",
            " 1   date                 53902 non-null  object \n",
            " 2   direction            53902 non-null  object \n",
            " 3   internal             53785 non-null  object \n",
            " 4   operator_id          45730 non-null  float64\n",
            " 5   is_missed_call       53902 non-null  bool   \n",
            " 6   calls_count          53902 non-null  int64  \n",
            " 7   call_duration        53902 non-null  int64  \n",
            " 8   total_call_duration  53902 non-null  int64  \n",
            "dtypes: bool(1), float64(1), int64(4), object(3)\n",
            "memory usage: 3.3+ MB\n"
          ]
        }
      ]
    },
    {
      "cell_type": "code",
      "execution_count": 11,
      "metadata": {
        "colab": {
          "base_uri": "https://localhost:8080/",
          "height": 366
        },
        "id": "iY5qpI-tLGA4",
        "outputId": "c4b3b052-fdb5-43ed-8449-9576ef84fe64"
      },
      "outputs": [
        {
          "output_type": "execute_result",
          "data": {
            "text/plain": [
              "user_id                   0\n",
              "date                      0\n",
              "direction                 0\n",
              "internal                117\n",
              "operator_id            8172\n",
              "is_missed_call            0\n",
              "calls_count               0\n",
              "call_duration             0\n",
              "total_call_duration       0\n",
              "dtype: int64"
            ],
            "text/html": [
              "<div>\n",
              "<style scoped>\n",
              "    .dataframe tbody tr th:only-of-type {\n",
              "        vertical-align: middle;\n",
              "    }\n",
              "\n",
              "    .dataframe tbody tr th {\n",
              "        vertical-align: top;\n",
              "    }\n",
              "\n",
              "    .dataframe thead th {\n",
              "        text-align: right;\n",
              "    }\n",
              "</style>\n",
              "<table border=\"1\" class=\"dataframe\">\n",
              "  <thead>\n",
              "    <tr style=\"text-align: right;\">\n",
              "      <th></th>\n",
              "      <th>0</th>\n",
              "    </tr>\n",
              "  </thead>\n",
              "  <tbody>\n",
              "    <tr>\n",
              "      <th>user_id</th>\n",
              "      <td>0</td>\n",
              "    </tr>\n",
              "    <tr>\n",
              "      <th>date</th>\n",
              "      <td>0</td>\n",
              "    </tr>\n",
              "    <tr>\n",
              "      <th>direction</th>\n",
              "      <td>0</td>\n",
              "    </tr>\n",
              "    <tr>\n",
              "      <th>internal</th>\n",
              "      <td>117</td>\n",
              "    </tr>\n",
              "    <tr>\n",
              "      <th>operator_id</th>\n",
              "      <td>8172</td>\n",
              "    </tr>\n",
              "    <tr>\n",
              "      <th>is_missed_call</th>\n",
              "      <td>0</td>\n",
              "    </tr>\n",
              "    <tr>\n",
              "      <th>calls_count</th>\n",
              "      <td>0</td>\n",
              "    </tr>\n",
              "    <tr>\n",
              "      <th>call_duration</th>\n",
              "      <td>0</td>\n",
              "    </tr>\n",
              "    <tr>\n",
              "      <th>total_call_duration</th>\n",
              "      <td>0</td>\n",
              "    </tr>\n",
              "  </tbody>\n",
              "</table>\n",
              "</div><br><label><b>dtype:</b> int64</label>"
            ]
          },
          "metadata": {},
          "execution_count": 11
        }
      ],
      "source": [
        "telecom_dataset.isnull().sum()"
      ]
    },
    {
      "cell_type": "code",
      "execution_count": 12,
      "metadata": {
        "colab": {
          "base_uri": "https://localhost:8080/",
          "height": 206
        },
        "id": "9o96mE6jLJmt",
        "outputId": "265cca63-12f6-4cd5-873d-79f15ad52e1f"
      },
      "outputs": [
        {
          "output_type": "execute_result",
          "data": {
            "text/plain": [
              "                       count           mean           std       min       25%  \\\n",
              "user_id              53902.0  167295.344477    598.883775  166377.0  166782.0   \n",
              "operator_id          45730.0  916535.993002  21254.123136  879896.0  900788.0   \n",
              "calls_count          53902.0      16.451245     62.917170       1.0       1.0   \n",
              "call_duration        53902.0     866.684427   3731.791202       0.0       0.0   \n",
              "total_call_duration  53902.0    1157.133297   4403.468763       0.0      47.0   \n",
              "\n",
              "                          50%       75%       max  \n",
              "user_id              167162.0  167819.0  168606.0  \n",
              "operator_id          913938.0  937708.0  973286.0  \n",
              "calls_count               4.0      12.0    4817.0  \n",
              "call_duration            38.0     572.0  144395.0  \n",
              "total_call_duration     210.0     902.0  166155.0  "
            ],
            "text/html": [
              "\n",
              "  <div id=\"df-8eca4a94-2213-463b-88b9-c95965efe7ec\" class=\"colab-df-container\">\n",
              "    <div>\n",
              "<style scoped>\n",
              "    .dataframe tbody tr th:only-of-type {\n",
              "        vertical-align: middle;\n",
              "    }\n",
              "\n",
              "    .dataframe tbody tr th {\n",
              "        vertical-align: top;\n",
              "    }\n",
              "\n",
              "    .dataframe thead th {\n",
              "        text-align: right;\n",
              "    }\n",
              "</style>\n",
              "<table border=\"1\" class=\"dataframe\">\n",
              "  <thead>\n",
              "    <tr style=\"text-align: right;\">\n",
              "      <th></th>\n",
              "      <th>count</th>\n",
              "      <th>mean</th>\n",
              "      <th>std</th>\n",
              "      <th>min</th>\n",
              "      <th>25%</th>\n",
              "      <th>50%</th>\n",
              "      <th>75%</th>\n",
              "      <th>max</th>\n",
              "    </tr>\n",
              "  </thead>\n",
              "  <tbody>\n",
              "    <tr>\n",
              "      <th>user_id</th>\n",
              "      <td>53902.0</td>\n",
              "      <td>167295.344477</td>\n",
              "      <td>598.883775</td>\n",
              "      <td>166377.0</td>\n",
              "      <td>166782.0</td>\n",
              "      <td>167162.0</td>\n",
              "      <td>167819.0</td>\n",
              "      <td>168606.0</td>\n",
              "    </tr>\n",
              "    <tr>\n",
              "      <th>operator_id</th>\n",
              "      <td>45730.0</td>\n",
              "      <td>916535.993002</td>\n",
              "      <td>21254.123136</td>\n",
              "      <td>879896.0</td>\n",
              "      <td>900788.0</td>\n",
              "      <td>913938.0</td>\n",
              "      <td>937708.0</td>\n",
              "      <td>973286.0</td>\n",
              "    </tr>\n",
              "    <tr>\n",
              "      <th>calls_count</th>\n",
              "      <td>53902.0</td>\n",
              "      <td>16.451245</td>\n",
              "      <td>62.917170</td>\n",
              "      <td>1.0</td>\n",
              "      <td>1.0</td>\n",
              "      <td>4.0</td>\n",
              "      <td>12.0</td>\n",
              "      <td>4817.0</td>\n",
              "    </tr>\n",
              "    <tr>\n",
              "      <th>call_duration</th>\n",
              "      <td>53902.0</td>\n",
              "      <td>866.684427</td>\n",
              "      <td>3731.791202</td>\n",
              "      <td>0.0</td>\n",
              "      <td>0.0</td>\n",
              "      <td>38.0</td>\n",
              "      <td>572.0</td>\n",
              "      <td>144395.0</td>\n",
              "    </tr>\n",
              "    <tr>\n",
              "      <th>total_call_duration</th>\n",
              "      <td>53902.0</td>\n",
              "      <td>1157.133297</td>\n",
              "      <td>4403.468763</td>\n",
              "      <td>0.0</td>\n",
              "      <td>47.0</td>\n",
              "      <td>210.0</td>\n",
              "      <td>902.0</td>\n",
              "      <td>166155.0</td>\n",
              "    </tr>\n",
              "  </tbody>\n",
              "</table>\n",
              "</div>\n",
              "    <div class=\"colab-df-buttons\">\n",
              "\n",
              "  <div class=\"colab-df-container\">\n",
              "    <button class=\"colab-df-convert\" onclick=\"convertToInteractive('df-8eca4a94-2213-463b-88b9-c95965efe7ec')\"\n",
              "            title=\"Convert this dataframe to an interactive table.\"\n",
              "            style=\"display:none;\">\n",
              "\n",
              "  <svg xmlns=\"http://www.w3.org/2000/svg\" height=\"24px\" viewBox=\"0 -960 960 960\">\n",
              "    <path d=\"M120-120v-720h720v720H120Zm60-500h600v-160H180v160Zm220 220h160v-160H400v160Zm0 220h160v-160H400v160ZM180-400h160v-160H180v160Zm440 0h160v-160H620v160ZM180-180h160v-160H180v160Zm440 0h160v-160H620v160Z\"/>\n",
              "  </svg>\n",
              "    </button>\n",
              "\n",
              "  <style>\n",
              "    .colab-df-container {\n",
              "      display:flex;\n",
              "      gap: 12px;\n",
              "    }\n",
              "\n",
              "    .colab-df-convert {\n",
              "      background-color: #E8F0FE;\n",
              "      border: none;\n",
              "      border-radius: 50%;\n",
              "      cursor: pointer;\n",
              "      display: none;\n",
              "      fill: #1967D2;\n",
              "      height: 32px;\n",
              "      padding: 0 0 0 0;\n",
              "      width: 32px;\n",
              "    }\n",
              "\n",
              "    .colab-df-convert:hover {\n",
              "      background-color: #E2EBFA;\n",
              "      box-shadow: 0px 1px 2px rgba(60, 64, 67, 0.3), 0px 1px 3px 1px rgba(60, 64, 67, 0.15);\n",
              "      fill: #174EA6;\n",
              "    }\n",
              "\n",
              "    .colab-df-buttons div {\n",
              "      margin-bottom: 4px;\n",
              "    }\n",
              "\n",
              "    [theme=dark] .colab-df-convert {\n",
              "      background-color: #3B4455;\n",
              "      fill: #D2E3FC;\n",
              "    }\n",
              "\n",
              "    [theme=dark] .colab-df-convert:hover {\n",
              "      background-color: #434B5C;\n",
              "      box-shadow: 0px 1px 3px 1px rgba(0, 0, 0, 0.15);\n",
              "      filter: drop-shadow(0px 1px 2px rgba(0, 0, 0, 0.3));\n",
              "      fill: #FFFFFF;\n",
              "    }\n",
              "  </style>\n",
              "\n",
              "    <script>\n",
              "      const buttonEl =\n",
              "        document.querySelector('#df-8eca4a94-2213-463b-88b9-c95965efe7ec button.colab-df-convert');\n",
              "      buttonEl.style.display =\n",
              "        google.colab.kernel.accessAllowed ? 'block' : 'none';\n",
              "\n",
              "      async function convertToInteractive(key) {\n",
              "        const element = document.querySelector('#df-8eca4a94-2213-463b-88b9-c95965efe7ec');\n",
              "        const dataTable =\n",
              "          await google.colab.kernel.invokeFunction('convertToInteractive',\n",
              "                                                    [key], {});\n",
              "        if (!dataTable) return;\n",
              "\n",
              "        const docLinkHtml = 'Like what you see? Visit the ' +\n",
              "          '<a target=\"_blank\" href=https://colab.research.google.com/notebooks/data_table.ipynb>data table notebook</a>'\n",
              "          + ' to learn more about interactive tables.';\n",
              "        element.innerHTML = '';\n",
              "        dataTable['output_type'] = 'display_data';\n",
              "        await google.colab.output.renderOutput(dataTable, element);\n",
              "        const docLink = document.createElement('div');\n",
              "        docLink.innerHTML = docLinkHtml;\n",
              "        element.appendChild(docLink);\n",
              "      }\n",
              "    </script>\n",
              "  </div>\n",
              "\n",
              "\n",
              "<div id=\"df-9275f63c-842a-44e6-ad7a-f1b2c0a34a1b\">\n",
              "  <button class=\"colab-df-quickchart\" onclick=\"quickchart('df-9275f63c-842a-44e6-ad7a-f1b2c0a34a1b')\"\n",
              "            title=\"Suggest charts\"\n",
              "            style=\"display:none;\">\n",
              "\n",
              "<svg xmlns=\"http://www.w3.org/2000/svg\" height=\"24px\"viewBox=\"0 0 24 24\"\n",
              "     width=\"24px\">\n",
              "    <g>\n",
              "        <path d=\"M19 3H5c-1.1 0-2 .9-2 2v14c0 1.1.9 2 2 2h14c1.1 0 2-.9 2-2V5c0-1.1-.9-2-2-2zM9 17H7v-7h2v7zm4 0h-2V7h2v10zm4 0h-2v-4h2v4z\"/>\n",
              "    </g>\n",
              "</svg>\n",
              "  </button>\n",
              "\n",
              "<style>\n",
              "  .colab-df-quickchart {\n",
              "      --bg-color: #E8F0FE;\n",
              "      --fill-color: #1967D2;\n",
              "      --hover-bg-color: #E2EBFA;\n",
              "      --hover-fill-color: #174EA6;\n",
              "      --disabled-fill-color: #AAA;\n",
              "      --disabled-bg-color: #DDD;\n",
              "  }\n",
              "\n",
              "  [theme=dark] .colab-df-quickchart {\n",
              "      --bg-color: #3B4455;\n",
              "      --fill-color: #D2E3FC;\n",
              "      --hover-bg-color: #434B5C;\n",
              "      --hover-fill-color: #FFFFFF;\n",
              "      --disabled-bg-color: #3B4455;\n",
              "      --disabled-fill-color: #666;\n",
              "  }\n",
              "\n",
              "  .colab-df-quickchart {\n",
              "    background-color: var(--bg-color);\n",
              "    border: none;\n",
              "    border-radius: 50%;\n",
              "    cursor: pointer;\n",
              "    display: none;\n",
              "    fill: var(--fill-color);\n",
              "    height: 32px;\n",
              "    padding: 0;\n",
              "    width: 32px;\n",
              "  }\n",
              "\n",
              "  .colab-df-quickchart:hover {\n",
              "    background-color: var(--hover-bg-color);\n",
              "    box-shadow: 0 1px 2px rgba(60, 64, 67, 0.3), 0 1px 3px 1px rgba(60, 64, 67, 0.15);\n",
              "    fill: var(--button-hover-fill-color);\n",
              "  }\n",
              "\n",
              "  .colab-df-quickchart-complete:disabled,\n",
              "  .colab-df-quickchart-complete:disabled:hover {\n",
              "    background-color: var(--disabled-bg-color);\n",
              "    fill: var(--disabled-fill-color);\n",
              "    box-shadow: none;\n",
              "  }\n",
              "\n",
              "  .colab-df-spinner {\n",
              "    border: 2px solid var(--fill-color);\n",
              "    border-color: transparent;\n",
              "    border-bottom-color: var(--fill-color);\n",
              "    animation:\n",
              "      spin 1s steps(1) infinite;\n",
              "  }\n",
              "\n",
              "  @keyframes spin {\n",
              "    0% {\n",
              "      border-color: transparent;\n",
              "      border-bottom-color: var(--fill-color);\n",
              "      border-left-color: var(--fill-color);\n",
              "    }\n",
              "    20% {\n",
              "      border-color: transparent;\n",
              "      border-left-color: var(--fill-color);\n",
              "      border-top-color: var(--fill-color);\n",
              "    }\n",
              "    30% {\n",
              "      border-color: transparent;\n",
              "      border-left-color: var(--fill-color);\n",
              "      border-top-color: var(--fill-color);\n",
              "      border-right-color: var(--fill-color);\n",
              "    }\n",
              "    40% {\n",
              "      border-color: transparent;\n",
              "      border-right-color: var(--fill-color);\n",
              "      border-top-color: var(--fill-color);\n",
              "    }\n",
              "    60% {\n",
              "      border-color: transparent;\n",
              "      border-right-color: var(--fill-color);\n",
              "    }\n",
              "    80% {\n",
              "      border-color: transparent;\n",
              "      border-right-color: var(--fill-color);\n",
              "      border-bottom-color: var(--fill-color);\n",
              "    }\n",
              "    90% {\n",
              "      border-color: transparent;\n",
              "      border-bottom-color: var(--fill-color);\n",
              "    }\n",
              "  }\n",
              "</style>\n",
              "\n",
              "  <script>\n",
              "    async function quickchart(key) {\n",
              "      const quickchartButtonEl =\n",
              "        document.querySelector('#' + key + ' button');\n",
              "      quickchartButtonEl.disabled = true;  // To prevent multiple clicks.\n",
              "      quickchartButtonEl.classList.add('colab-df-spinner');\n",
              "      try {\n",
              "        const charts = await google.colab.kernel.invokeFunction(\n",
              "            'suggestCharts', [key], {});\n",
              "      } catch (error) {\n",
              "        console.error('Error during call to suggestCharts:', error);\n",
              "      }\n",
              "      quickchartButtonEl.classList.remove('colab-df-spinner');\n",
              "      quickchartButtonEl.classList.add('colab-df-quickchart-complete');\n",
              "    }\n",
              "    (() => {\n",
              "      let quickchartButtonEl =\n",
              "        document.querySelector('#df-9275f63c-842a-44e6-ad7a-f1b2c0a34a1b button');\n",
              "      quickchartButtonEl.style.display =\n",
              "        google.colab.kernel.accessAllowed ? 'block' : 'none';\n",
              "    })();\n",
              "  </script>\n",
              "</div>\n",
              "\n",
              "    </div>\n",
              "  </div>\n"
            ],
            "application/vnd.google.colaboratory.intrinsic+json": {
              "type": "dataframe",
              "summary": "{\n  \"name\": \"telecom_dataset\",\n  \"rows\": 5,\n  \"fields\": [\n    {\n      \"column\": \"count\",\n      \"properties\": {\n        \"dtype\": \"number\",\n        \"std\": 3654.6295024256565,\n        \"min\": 45730.0,\n        \"max\": 53902.0,\n        \"num_unique_values\": 2,\n        \"samples\": [\n          45730.0,\n          53902.0\n        ],\n        \"semantic_type\": \"\",\n        \"description\": \"\"\n      }\n    },\n    {\n      \"column\": \"mean\",\n      \"properties\": {\n        \"dtype\": \"number\",\n        \"std\": 397556.4802591439,\n        \"min\": 16.451244851768024,\n        \"max\": 916535.9930024054,\n        \"num_unique_values\": 5,\n        \"samples\": [\n          916535.9930024054,\n          1157.1332974657712\n        ],\n        \"semantic_type\": \"\",\n        \"description\": \"\"\n      }\n    },\n    {\n      \"column\": \"std\",\n      \"properties\": {\n        \"dtype\": \"number\",\n        \"std\": 8729.296088997131,\n        \"min\": 62.9171698032617,\n        \"max\": 21254.12313604177,\n        \"num_unique_values\": 5,\n        \"samples\": [\n          21254.12313604177,\n          4403.46876288233\n        ],\n        \"semantic_type\": \"\",\n        \"description\": \"\"\n      }\n    },\n    {\n      \"column\": \"min\",\n      \"properties\": {\n        \"dtype\": \"number\",\n        \"std\": 381759.2239654466,\n        \"min\": 0.0,\n        \"max\": 879896.0,\n        \"num_unique_values\": 4,\n        \"samples\": [\n          879896.0,\n          0.0\n        ],\n        \"semantic_type\": \"\",\n        \"description\": \"\"\n      }\n    },\n    {\n      \"column\": \"25%\",\n      \"properties\": {\n        \"dtype\": \"number\",\n        \"std\": 390919.9470138356,\n        \"min\": 0.0,\n        \"max\": 900788.0,\n        \"num_unique_values\": 5,\n        \"samples\": [\n          900788.0,\n          47.0\n        ],\n        \"semantic_type\": \"\",\n        \"description\": \"\"\n      }\n    },\n    {\n      \"column\": \"50%\",\n      \"properties\": {\n        \"dtype\": \"number\",\n        \"std\": 396661.51126218436,\n        \"min\": 4.0,\n        \"max\": 913938.0,\n        \"num_unique_values\": 5,\n        \"samples\": [\n          913938.0,\n          210.0\n        ],\n        \"semantic_type\": \"\",\n        \"description\": \"\"\n      }\n    },\n    {\n      \"column\": \"75%\",\n      \"properties\": {\n        \"dtype\": \"number\",\n        \"std\": 406929.0769050548,\n        \"min\": 12.0,\n        \"max\": 937708.0,\n        \"num_unique_values\": 5,\n        \"samples\": [\n          937708.0,\n          902.0\n        ],\n        \"semantic_type\": \"\",\n        \"description\": \"\"\n      }\n    },\n    {\n      \"column\": \"max\",\n      \"properties\": {\n        \"dtype\": \"number\",\n        \"std\": 387128.35918942955,\n        \"min\": 4817.0,\n        \"max\": 973286.0,\n        \"num_unique_values\": 5,\n        \"samples\": [\n          973286.0,\n          166155.0\n        ],\n        \"semantic_type\": \"\",\n        \"description\": \"\"\n      }\n    }\n  ]\n}"
            }
          },
          "metadata": {},
          "execution_count": 12
        }
      ],
      "source": [
        "telecom_dataset.describe().T"
      ]
    },
    {
      "cell_type": "markdown",
      "source": [
        "**LIMPIEZA TELECOM DATASET**"
      ],
      "metadata": {
        "id": "e1yDDSPbwWvu"
      }
    },
    {
      "cell_type": "code",
      "execution_count": 13,
      "metadata": {
        "id": "N_HVw2lDLP4A"
      },
      "outputs": [],
      "source": [
        "#Convertir date a tipo de fecha\n",
        "telecom_dataset['date'] = pd.to_datetime(telecom_dataset['date'])"
      ]
    },
    {
      "cell_type": "code",
      "source": [
        "telecom_dataset.info()"
      ],
      "metadata": {
        "colab": {
          "base_uri": "https://localhost:8080/"
        },
        "id": "WWkE4CaoxW4c",
        "outputId": "a381f516-83dd-4344-dd76-f664c7c1a811"
      },
      "execution_count": 14,
      "outputs": [
        {
          "output_type": "stream",
          "name": "stdout",
          "text": [
            "<class 'pandas.core.frame.DataFrame'>\n",
            "RangeIndex: 53902 entries, 0 to 53901\n",
            "Data columns (total 9 columns):\n",
            " #   Column               Non-Null Count  Dtype                    \n",
            "---  ------               --------------  -----                    \n",
            " 0   user_id              53902 non-null  int64                    \n",
            " 1   date                 53902 non-null  datetime64[ns, UTC+03:00]\n",
            " 2   direction            53902 non-null  object                   \n",
            " 3   internal             53785 non-null  object                   \n",
            " 4   operator_id          45730 non-null  float64                  \n",
            " 5   is_missed_call       53902 non-null  bool                     \n",
            " 6   calls_count          53902 non-null  int64                    \n",
            " 7   call_duration        53902 non-null  int64                    \n",
            " 8   total_call_duration  53902 non-null  int64                    \n",
            "dtypes: bool(1), datetime64[ns, UTC+03:00](1), float64(1), int64(4), object(2)\n",
            "memory usage: 3.3+ MB\n"
          ]
        }
      ]
    },
    {
      "cell_type": "markdown",
      "source": [
        "VALORES NULOS TELECOM DATASET"
      ],
      "metadata": {
        "id": "0MBs0KzoEEgM"
      }
    },
    {
      "cell_type": "code",
      "source": [
        "telecom_dataset['operator_id'] = telecom_dataset['operator_id'].fillna('Not_Registered')\n",
        "telecom_dataset['internal'] = telecom_dataset['internal'].fillna('Not_Registered')"
      ],
      "metadata": {
        "id": "jH2ycx3dxaTo"
      },
      "execution_count": 15,
      "outputs": []
    },
    {
      "cell_type": "code",
      "source": [
        "telecom_dataset.isna().sum()"
      ],
      "metadata": {
        "colab": {
          "base_uri": "https://localhost:8080/",
          "height": 366
        },
        "id": "huyi21JXEMRv",
        "outputId": "c63a8209-6b36-4111-d82c-2e0fface6973"
      },
      "execution_count": 16,
      "outputs": [
        {
          "output_type": "execute_result",
          "data": {
            "text/plain": [
              "user_id                0\n",
              "date                   0\n",
              "direction              0\n",
              "internal               0\n",
              "operator_id            0\n",
              "is_missed_call         0\n",
              "calls_count            0\n",
              "call_duration          0\n",
              "total_call_duration    0\n",
              "dtype: int64"
            ],
            "text/html": [
              "<div>\n",
              "<style scoped>\n",
              "    .dataframe tbody tr th:only-of-type {\n",
              "        vertical-align: middle;\n",
              "    }\n",
              "\n",
              "    .dataframe tbody tr th {\n",
              "        vertical-align: top;\n",
              "    }\n",
              "\n",
              "    .dataframe thead th {\n",
              "        text-align: right;\n",
              "    }\n",
              "</style>\n",
              "<table border=\"1\" class=\"dataframe\">\n",
              "  <thead>\n",
              "    <tr style=\"text-align: right;\">\n",
              "      <th></th>\n",
              "      <th>0</th>\n",
              "    </tr>\n",
              "  </thead>\n",
              "  <tbody>\n",
              "    <tr>\n",
              "      <th>user_id</th>\n",
              "      <td>0</td>\n",
              "    </tr>\n",
              "    <tr>\n",
              "      <th>date</th>\n",
              "      <td>0</td>\n",
              "    </tr>\n",
              "    <tr>\n",
              "      <th>direction</th>\n",
              "      <td>0</td>\n",
              "    </tr>\n",
              "    <tr>\n",
              "      <th>internal</th>\n",
              "      <td>0</td>\n",
              "    </tr>\n",
              "    <tr>\n",
              "      <th>operator_id</th>\n",
              "      <td>0</td>\n",
              "    </tr>\n",
              "    <tr>\n",
              "      <th>is_missed_call</th>\n",
              "      <td>0</td>\n",
              "    </tr>\n",
              "    <tr>\n",
              "      <th>calls_count</th>\n",
              "      <td>0</td>\n",
              "    </tr>\n",
              "    <tr>\n",
              "      <th>call_duration</th>\n",
              "      <td>0</td>\n",
              "    </tr>\n",
              "    <tr>\n",
              "      <th>total_call_duration</th>\n",
              "      <td>0</td>\n",
              "    </tr>\n",
              "  </tbody>\n",
              "</table>\n",
              "</div><br><label><b>dtype:</b> int64</label>"
            ]
          },
          "metadata": {},
          "execution_count": 16
        }
      ]
    },
    {
      "cell_type": "markdown",
      "source": [
        "CREACIÓN DE COLUMNA IVR TIME"
      ],
      "metadata": {
        "id": "CqNYFZ50EQJh"
      }
    },
    {
      "cell_type": "code",
      "source": [
        "telecom_dataset['IVR Time'] = telecom_dataset['total_call_duration'] - telecom_dataset['call_duration']"
      ],
      "metadata": {
        "id": "ic28miG4ENRw"
      },
      "execution_count": 17,
      "outputs": []
    },
    {
      "cell_type": "code",
      "source": [
        "telecom_dataset.head()"
      ],
      "metadata": {
        "colab": {
          "base_uri": "https://localhost:8080/",
          "height": 206
        },
        "id": "SmvIji-LETlh",
        "outputId": "7ca8330a-fb07-4e47-cc5a-649d3eeb51cc"
      },
      "execution_count": 18,
      "outputs": [
        {
          "output_type": "execute_result",
          "data": {
            "text/plain": [
              "   user_id                      date direction internal     operator_id  \\\n",
              "0   166377 2019-08-04 00:00:00+03:00        in    False  Not_Registered   \n",
              "1   166377 2019-08-05 00:00:00+03:00       out     True        880022.0   \n",
              "2   166377 2019-08-05 00:00:00+03:00       out     True        880020.0   \n",
              "3   166377 2019-08-05 00:00:00+03:00       out     True        880020.0   \n",
              "4   166377 2019-08-05 00:00:00+03:00       out    False        880022.0   \n",
              "\n",
              "   is_missed_call  calls_count  call_duration  total_call_duration  IVR Time  \n",
              "0            True            2              0                    4         4  \n",
              "1            True            3              0                    5         5  \n",
              "2            True            1              0                    1         1  \n",
              "3           False            1             10                   18         8  \n",
              "4            True            3              0                   25        25  "
            ],
            "text/html": [
              "\n",
              "  <div id=\"df-76764829-a5ed-42b7-8040-22b224e39724\" class=\"colab-df-container\">\n",
              "    <div>\n",
              "<style scoped>\n",
              "    .dataframe tbody tr th:only-of-type {\n",
              "        vertical-align: middle;\n",
              "    }\n",
              "\n",
              "    .dataframe tbody tr th {\n",
              "        vertical-align: top;\n",
              "    }\n",
              "\n",
              "    .dataframe thead th {\n",
              "        text-align: right;\n",
              "    }\n",
              "</style>\n",
              "<table border=\"1\" class=\"dataframe\">\n",
              "  <thead>\n",
              "    <tr style=\"text-align: right;\">\n",
              "      <th></th>\n",
              "      <th>user_id</th>\n",
              "      <th>date</th>\n",
              "      <th>direction</th>\n",
              "      <th>internal</th>\n",
              "      <th>operator_id</th>\n",
              "      <th>is_missed_call</th>\n",
              "      <th>calls_count</th>\n",
              "      <th>call_duration</th>\n",
              "      <th>total_call_duration</th>\n",
              "      <th>IVR Time</th>\n",
              "    </tr>\n",
              "  </thead>\n",
              "  <tbody>\n",
              "    <tr>\n",
              "      <th>0</th>\n",
              "      <td>166377</td>\n",
              "      <td>2019-08-04 00:00:00+03:00</td>\n",
              "      <td>in</td>\n",
              "      <td>False</td>\n",
              "      <td>Not_Registered</td>\n",
              "      <td>True</td>\n",
              "      <td>2</td>\n",
              "      <td>0</td>\n",
              "      <td>4</td>\n",
              "      <td>4</td>\n",
              "    </tr>\n",
              "    <tr>\n",
              "      <th>1</th>\n",
              "      <td>166377</td>\n",
              "      <td>2019-08-05 00:00:00+03:00</td>\n",
              "      <td>out</td>\n",
              "      <td>True</td>\n",
              "      <td>880022.0</td>\n",
              "      <td>True</td>\n",
              "      <td>3</td>\n",
              "      <td>0</td>\n",
              "      <td>5</td>\n",
              "      <td>5</td>\n",
              "    </tr>\n",
              "    <tr>\n",
              "      <th>2</th>\n",
              "      <td>166377</td>\n",
              "      <td>2019-08-05 00:00:00+03:00</td>\n",
              "      <td>out</td>\n",
              "      <td>True</td>\n",
              "      <td>880020.0</td>\n",
              "      <td>True</td>\n",
              "      <td>1</td>\n",
              "      <td>0</td>\n",
              "      <td>1</td>\n",
              "      <td>1</td>\n",
              "    </tr>\n",
              "    <tr>\n",
              "      <th>3</th>\n",
              "      <td>166377</td>\n",
              "      <td>2019-08-05 00:00:00+03:00</td>\n",
              "      <td>out</td>\n",
              "      <td>True</td>\n",
              "      <td>880020.0</td>\n",
              "      <td>False</td>\n",
              "      <td>1</td>\n",
              "      <td>10</td>\n",
              "      <td>18</td>\n",
              "      <td>8</td>\n",
              "    </tr>\n",
              "    <tr>\n",
              "      <th>4</th>\n",
              "      <td>166377</td>\n",
              "      <td>2019-08-05 00:00:00+03:00</td>\n",
              "      <td>out</td>\n",
              "      <td>False</td>\n",
              "      <td>880022.0</td>\n",
              "      <td>True</td>\n",
              "      <td>3</td>\n",
              "      <td>0</td>\n",
              "      <td>25</td>\n",
              "      <td>25</td>\n",
              "    </tr>\n",
              "  </tbody>\n",
              "</table>\n",
              "</div>\n",
              "    <div class=\"colab-df-buttons\">\n",
              "\n",
              "  <div class=\"colab-df-container\">\n",
              "    <button class=\"colab-df-convert\" onclick=\"convertToInteractive('df-76764829-a5ed-42b7-8040-22b224e39724')\"\n",
              "            title=\"Convert this dataframe to an interactive table.\"\n",
              "            style=\"display:none;\">\n",
              "\n",
              "  <svg xmlns=\"http://www.w3.org/2000/svg\" height=\"24px\" viewBox=\"0 -960 960 960\">\n",
              "    <path d=\"M120-120v-720h720v720H120Zm60-500h600v-160H180v160Zm220 220h160v-160H400v160Zm0 220h160v-160H400v160ZM180-400h160v-160H180v160Zm440 0h160v-160H620v160ZM180-180h160v-160H180v160Zm440 0h160v-160H620v160Z\"/>\n",
              "  </svg>\n",
              "    </button>\n",
              "\n",
              "  <style>\n",
              "    .colab-df-container {\n",
              "      display:flex;\n",
              "      gap: 12px;\n",
              "    }\n",
              "\n",
              "    .colab-df-convert {\n",
              "      background-color: #E8F0FE;\n",
              "      border: none;\n",
              "      border-radius: 50%;\n",
              "      cursor: pointer;\n",
              "      display: none;\n",
              "      fill: #1967D2;\n",
              "      height: 32px;\n",
              "      padding: 0 0 0 0;\n",
              "      width: 32px;\n",
              "    }\n",
              "\n",
              "    .colab-df-convert:hover {\n",
              "      background-color: #E2EBFA;\n",
              "      box-shadow: 0px 1px 2px rgba(60, 64, 67, 0.3), 0px 1px 3px 1px rgba(60, 64, 67, 0.15);\n",
              "      fill: #174EA6;\n",
              "    }\n",
              "\n",
              "    .colab-df-buttons div {\n",
              "      margin-bottom: 4px;\n",
              "    }\n",
              "\n",
              "    [theme=dark] .colab-df-convert {\n",
              "      background-color: #3B4455;\n",
              "      fill: #D2E3FC;\n",
              "    }\n",
              "\n",
              "    [theme=dark] .colab-df-convert:hover {\n",
              "      background-color: #434B5C;\n",
              "      box-shadow: 0px 1px 3px 1px rgba(0, 0, 0, 0.15);\n",
              "      filter: drop-shadow(0px 1px 2px rgba(0, 0, 0, 0.3));\n",
              "      fill: #FFFFFF;\n",
              "    }\n",
              "  </style>\n",
              "\n",
              "    <script>\n",
              "      const buttonEl =\n",
              "        document.querySelector('#df-76764829-a5ed-42b7-8040-22b224e39724 button.colab-df-convert');\n",
              "      buttonEl.style.display =\n",
              "        google.colab.kernel.accessAllowed ? 'block' : 'none';\n",
              "\n",
              "      async function convertToInteractive(key) {\n",
              "        const element = document.querySelector('#df-76764829-a5ed-42b7-8040-22b224e39724');\n",
              "        const dataTable =\n",
              "          await google.colab.kernel.invokeFunction('convertToInteractive',\n",
              "                                                    [key], {});\n",
              "        if (!dataTable) return;\n",
              "\n",
              "        const docLinkHtml = 'Like what you see? Visit the ' +\n",
              "          '<a target=\"_blank\" href=https://colab.research.google.com/notebooks/data_table.ipynb>data table notebook</a>'\n",
              "          + ' to learn more about interactive tables.';\n",
              "        element.innerHTML = '';\n",
              "        dataTable['output_type'] = 'display_data';\n",
              "        await google.colab.output.renderOutput(dataTable, element);\n",
              "        const docLink = document.createElement('div');\n",
              "        docLink.innerHTML = docLinkHtml;\n",
              "        element.appendChild(docLink);\n",
              "      }\n",
              "    </script>\n",
              "  </div>\n",
              "\n",
              "\n",
              "<div id=\"df-dd5c49ea-13c8-4987-9fea-747b2c36d1d2\">\n",
              "  <button class=\"colab-df-quickchart\" onclick=\"quickchart('df-dd5c49ea-13c8-4987-9fea-747b2c36d1d2')\"\n",
              "            title=\"Suggest charts\"\n",
              "            style=\"display:none;\">\n",
              "\n",
              "<svg xmlns=\"http://www.w3.org/2000/svg\" height=\"24px\"viewBox=\"0 0 24 24\"\n",
              "     width=\"24px\">\n",
              "    <g>\n",
              "        <path d=\"M19 3H5c-1.1 0-2 .9-2 2v14c0 1.1.9 2 2 2h14c1.1 0 2-.9 2-2V5c0-1.1-.9-2-2-2zM9 17H7v-7h2v7zm4 0h-2V7h2v10zm4 0h-2v-4h2v4z\"/>\n",
              "    </g>\n",
              "</svg>\n",
              "  </button>\n",
              "\n",
              "<style>\n",
              "  .colab-df-quickchart {\n",
              "      --bg-color: #E8F0FE;\n",
              "      --fill-color: #1967D2;\n",
              "      --hover-bg-color: #E2EBFA;\n",
              "      --hover-fill-color: #174EA6;\n",
              "      --disabled-fill-color: #AAA;\n",
              "      --disabled-bg-color: #DDD;\n",
              "  }\n",
              "\n",
              "  [theme=dark] .colab-df-quickchart {\n",
              "      --bg-color: #3B4455;\n",
              "      --fill-color: #D2E3FC;\n",
              "      --hover-bg-color: #434B5C;\n",
              "      --hover-fill-color: #FFFFFF;\n",
              "      --disabled-bg-color: #3B4455;\n",
              "      --disabled-fill-color: #666;\n",
              "  }\n",
              "\n",
              "  .colab-df-quickchart {\n",
              "    background-color: var(--bg-color);\n",
              "    border: none;\n",
              "    border-radius: 50%;\n",
              "    cursor: pointer;\n",
              "    display: none;\n",
              "    fill: var(--fill-color);\n",
              "    height: 32px;\n",
              "    padding: 0;\n",
              "    width: 32px;\n",
              "  }\n",
              "\n",
              "  .colab-df-quickchart:hover {\n",
              "    background-color: var(--hover-bg-color);\n",
              "    box-shadow: 0 1px 2px rgba(60, 64, 67, 0.3), 0 1px 3px 1px rgba(60, 64, 67, 0.15);\n",
              "    fill: var(--button-hover-fill-color);\n",
              "  }\n",
              "\n",
              "  .colab-df-quickchart-complete:disabled,\n",
              "  .colab-df-quickchart-complete:disabled:hover {\n",
              "    background-color: var(--disabled-bg-color);\n",
              "    fill: var(--disabled-fill-color);\n",
              "    box-shadow: none;\n",
              "  }\n",
              "\n",
              "  .colab-df-spinner {\n",
              "    border: 2px solid var(--fill-color);\n",
              "    border-color: transparent;\n",
              "    border-bottom-color: var(--fill-color);\n",
              "    animation:\n",
              "      spin 1s steps(1) infinite;\n",
              "  }\n",
              "\n",
              "  @keyframes spin {\n",
              "    0% {\n",
              "      border-color: transparent;\n",
              "      border-bottom-color: var(--fill-color);\n",
              "      border-left-color: var(--fill-color);\n",
              "    }\n",
              "    20% {\n",
              "      border-color: transparent;\n",
              "      border-left-color: var(--fill-color);\n",
              "      border-top-color: var(--fill-color);\n",
              "    }\n",
              "    30% {\n",
              "      border-color: transparent;\n",
              "      border-left-color: var(--fill-color);\n",
              "      border-top-color: var(--fill-color);\n",
              "      border-right-color: var(--fill-color);\n",
              "    }\n",
              "    40% {\n",
              "      border-color: transparent;\n",
              "      border-right-color: var(--fill-color);\n",
              "      border-top-color: var(--fill-color);\n",
              "    }\n",
              "    60% {\n",
              "      border-color: transparent;\n",
              "      border-right-color: var(--fill-color);\n",
              "    }\n",
              "    80% {\n",
              "      border-color: transparent;\n",
              "      border-right-color: var(--fill-color);\n",
              "      border-bottom-color: var(--fill-color);\n",
              "    }\n",
              "    90% {\n",
              "      border-color: transparent;\n",
              "      border-bottom-color: var(--fill-color);\n",
              "    }\n",
              "  }\n",
              "</style>\n",
              "\n",
              "  <script>\n",
              "    async function quickchart(key) {\n",
              "      const quickchartButtonEl =\n",
              "        document.querySelector('#' + key + ' button');\n",
              "      quickchartButtonEl.disabled = true;  // To prevent multiple clicks.\n",
              "      quickchartButtonEl.classList.add('colab-df-spinner');\n",
              "      try {\n",
              "        const charts = await google.colab.kernel.invokeFunction(\n",
              "            'suggestCharts', [key], {});\n",
              "      } catch (error) {\n",
              "        console.error('Error during call to suggestCharts:', error);\n",
              "      }\n",
              "      quickchartButtonEl.classList.remove('colab-df-spinner');\n",
              "      quickchartButtonEl.classList.add('colab-df-quickchart-complete');\n",
              "    }\n",
              "    (() => {\n",
              "      let quickchartButtonEl =\n",
              "        document.querySelector('#df-dd5c49ea-13c8-4987-9fea-747b2c36d1d2 button');\n",
              "      quickchartButtonEl.style.display =\n",
              "        google.colab.kernel.accessAllowed ? 'block' : 'none';\n",
              "    })();\n",
              "  </script>\n",
              "</div>\n",
              "\n",
              "    </div>\n",
              "  </div>\n"
            ],
            "application/vnd.google.colaboratory.intrinsic+json": {
              "type": "dataframe",
              "variable_name": "telecom_dataset",
              "summary": "{\n  \"name\": \"telecom_dataset\",\n  \"rows\": 53902,\n  \"fields\": [\n    {\n      \"column\": \"user_id\",\n      \"properties\": {\n        \"dtype\": \"number\",\n        \"std\": 598,\n        \"min\": 166377,\n        \"max\": 168606,\n        \"num_unique_values\": 307,\n        \"samples\": [\n          167653,\n          166843,\n          167185\n        ],\n        \"semantic_type\": \"\",\n        \"description\": \"\"\n      }\n    },\n    {\n      \"column\": \"date\",\n      \"properties\": {\n        \"dtype\": \"date\",\n        \"min\": \"2019-08-02 00:00:00+03:00\",\n        \"max\": \"2019-11-28 00:00:00+03:00\",\n        \"num_unique_values\": 119,\n        \"samples\": [\n          \"2019-10-18 00:00:00+03:00\",\n          \"2019-08-02 00:00:00+03:00\",\n          \"2019-08-08 00:00:00+03:00\"\n        ],\n        \"semantic_type\": \"\",\n        \"description\": \"\"\n      }\n    },\n    {\n      \"column\": \"direction\",\n      \"properties\": {\n        \"dtype\": \"category\",\n        \"num_unique_values\": 2,\n        \"samples\": [\n          \"out\",\n          \"in\"\n        ],\n        \"semantic_type\": \"\",\n        \"description\": \"\"\n      }\n    },\n    {\n      \"column\": \"internal\",\n      \"properties\": {\n        \"dtype\": \"category\",\n        \"num_unique_values\": 3,\n        \"samples\": [\n          false,\n          true\n        ],\n        \"semantic_type\": \"\",\n        \"description\": \"\"\n      }\n    },\n    {\n      \"column\": \"operator_id\",\n      \"properties\": {\n        \"dtype\": \"category\",\n        \"num_unique_values\": 1093,\n        \"samples\": [\n          910540.0,\n          932050.0\n        ],\n        \"semantic_type\": \"\",\n        \"description\": \"\"\n      }\n    },\n    {\n      \"column\": \"is_missed_call\",\n      \"properties\": {\n        \"dtype\": \"boolean\",\n        \"num_unique_values\": 2,\n        \"samples\": [\n          false,\n          true\n        ],\n        \"semantic_type\": \"\",\n        \"description\": \"\"\n      }\n    },\n    {\n      \"column\": \"calls_count\",\n      \"properties\": {\n        \"dtype\": \"number\",\n        \"std\": 62,\n        \"min\": 1,\n        \"max\": 4817,\n        \"num_unique_values\": 502,\n        \"samples\": [\n          461,\n          48\n        ],\n        \"semantic_type\": \"\",\n        \"description\": \"\"\n      }\n    },\n    {\n      \"column\": \"call_duration\",\n      \"properties\": {\n        \"dtype\": \"number\",\n        \"std\": 3731,\n        \"min\": 0,\n        \"max\": 144395,\n        \"num_unique_values\": 5373,\n        \"samples\": [\n          6445,\n          6928\n        ],\n        \"semantic_type\": \"\",\n        \"description\": \"\"\n      }\n    },\n    {\n      \"column\": \"total_call_duration\",\n      \"properties\": {\n        \"dtype\": \"number\",\n        \"std\": 4403,\n        \"min\": 0,\n        \"max\": 166155,\n        \"num_unique_values\": 6040,\n        \"samples\": [\n          9939,\n          148\n        ],\n        \"semantic_type\": \"\",\n        \"description\": \"\"\n      }\n    },\n    {\n      \"column\": \"IVR Time\",\n      \"properties\": {\n        \"dtype\": \"number\",\n        \"std\": 1127,\n        \"min\": 0,\n        \"max\": 46474,\n        \"num_unique_values\": 2693,\n        \"samples\": [\n          3414,\n          2640\n        ],\n        \"semantic_type\": \"\",\n        \"description\": \"\"\n      }\n    }\n  ]\n}"
            }
          },
          "metadata": {},
          "execution_count": 18
        }
      ]
    },
    {
      "cell_type": "markdown",
      "source": [
        "ELIMINAR OUTLIERS"
      ],
      "metadata": {
        "id": "rfY_lNvLEiXW"
      }
    },
    {
      "cell_type": "code",
      "source": [
        "columnas_cuantitativas = telecom_dataset[['calls_count', 'call_duration', 'total_call_duration', 'IVR Time']].copy()\n",
        "columnas_cualitativas = telecom_dataset[['user_id', 'date', 'direction', 'internal', 'operator_id', 'is_missed_call']].copy()\n",
        "fig = plt.figure(figsize = (20, 10))\n",
        "columnas_cuantitativas.plot(kind = 'box', vert = False)\n",
        "plt.title(\"Valores atipicos\")\n",
        "plt.show()"
      ],
      "metadata": {
        "colab": {
          "base_uri": "https://localhost:8080/",
          "height": 469
        },
        "id": "W1r0KetiEje0",
        "outputId": "40768e74-46c6-4760-8b93-3cd9ce2c4655"
      },
      "execution_count": 19,
      "outputs": [
        {
          "output_type": "display_data",
          "data": {
            "text/plain": [
              "<Figure size 2000x1000 with 0 Axes>"
            ]
          },
          "metadata": {}
        },
        {
          "output_type": "display_data",
          "data": {
            "text/plain": [
              "<Figure size 640x480 with 1 Axes>"
            ],
            "image/png": "[encoded data removed]"
          },
          "metadata": {}
        }
      ]
    },
    {
      "cell_type": "code",
      "source": [
        "y = columnas_cuantitativas\n",
        "Limite_superior = y.mean() + 3*y.std()\n",
        "Limite_inferior = y.mean() - 3*y.std()\n",
        "print(\"Limite superior permitido\", Limite_superior)\n",
        "print(\"Limite inferior permitido\", Limite_inferior)"
      ],
      "metadata": {
        "colab": {
          "base_uri": "https://localhost:8080/"
        },
        "id": "qZUQNaI7El1g",
        "outputId": "fd048aa7-3c3d-47b6-903c-0cccdcae4dd3"
      },
      "execution_count": 20,
      "outputs": [
        {
          "output_type": "stream",
          "name": "stdout",
          "text": [
            "Limite superior permitido calls_count              205.202754\n",
            "call_duration          12062.058032\n",
            "total_call_duration    14367.539586\n",
            "IVR Time                3674.165831\n",
            "dtype: float64\n",
            "Limite inferior permitido calls_count             -172.300265\n",
            "call_duration         -10328.689177\n",
            "total_call_duration   -12053.272991\n",
            "IVR Time               -3093.268091\n",
            "dtype: float64\n"
          ]
        }
      ]
    },
    {
      "cell_type": "code",
      "source": [
        "#Filtrar solo por columnas dentro de los limites\n",
        "columnas_cuantitativas_sin_outliers = columnas_cuantitativas[(y <= Limite_superior) & (y >= Limite_inferior)]\n",
        "#Revisar valores nulos\n",
        "valores_nulos_cuantitativo = columnas_cuantitativas_sin_outliers.isnull().sum()\n",
        "valores_nulos_cuantitativo"
      ],
      "metadata": {
        "colab": {
          "base_uri": "https://localhost:8080/",
          "height": 210
        },
        "id": "M84qkZEPEpSg",
        "outputId": "dc436ad8-c28b-43fa-afb9-5dccdb731128"
      },
      "execution_count": 21,
      "outputs": [
        {
          "output_type": "execute_result",
          "data": {
            "text/plain": [
              "calls_count            454\n",
              "call_duration          403\n",
              "total_call_duration    424\n",
              "IVR Time               455\n",
              "dtype: int64"
            ],
            "text/html": [
              "<div>\n",
              "<style scoped>\n",
              "    .dataframe tbody tr th:only-of-type {\n",
              "        vertical-align: middle;\n",
              "    }\n",
              "\n",
              "    .dataframe tbody tr th {\n",
              "        vertical-align: top;\n",
              "    }\n",
              "\n",
              "    .dataframe thead th {\n",
              "        text-align: right;\n",
              "    }\n",
              "</style>\n",
              "<table border=\"1\" class=\"dataframe\">\n",
              "  <thead>\n",
              "    <tr style=\"text-align: right;\">\n",
              "      <th></th>\n",
              "      <th>0</th>\n",
              "    </tr>\n",
              "  </thead>\n",
              "  <tbody>\n",
              "    <tr>\n",
              "      <th>calls_count</th>\n",
              "      <td>454</td>\n",
              "    </tr>\n",
              "    <tr>\n",
              "      <th>call_duration</th>\n",
              "      <td>403</td>\n",
              "    </tr>\n",
              "    <tr>\n",
              "      <th>total_call_duration</th>\n",
              "      <td>424</td>\n",
              "    </tr>\n",
              "    <tr>\n",
              "      <th>IVR Time</th>\n",
              "      <td>455</td>\n",
              "    </tr>\n",
              "  </tbody>\n",
              "</table>\n",
              "</div><br><label><b>dtype:</b> int64</label>"
            ]
          },
          "metadata": {},
          "execution_count": 21
        }
      ]
    },
    {
      "cell_type": "code",
      "source": [
        "#Hacer una copia del dataframe y rellenar los valores nulos con la media\n",
        "columnas_cuantitativas_limpio = columnas_cuantitativas_sin_outliers.copy()\n",
        "columnas_cuantitativas_limpio = columnas_cuantitativas_limpio.fillna(round(columnas_cuantitativas_sin_outliers.mean(), 1))\n",
        "\n",
        "#Se juntan las columnas cualitativas con las cuantitativas\n",
        "telecom_dataset_outliers = pd.concat([columnas_cuantitativas_limpio, columnas_cualitativas], axis = 1)\n",
        "telecom_dataset_outliers.head()"
      ],
      "metadata": {
        "colab": {
          "base_uri": "https://localhost:8080/",
          "height": 206
        },
        "id": "iuKdpgF1ErXv",
        "outputId": "b4aa51ce-bb7c-44c9-bc5e-548aa12ce86a"
      },
      "execution_count": 22,
      "outputs": [
        {
          "output_type": "execute_result",
          "data": {
            "text/plain": [
              "   calls_count  call_duration  total_call_duration  IVR Time  user_id  \\\n",
              "0          2.0            0.0                  4.0       4.0   166377   \n",
              "1          3.0            0.0                  5.0       5.0   166377   \n",
              "2          1.0            0.0                  1.0       1.0   166377   \n",
              "3          1.0           10.0                 18.0       8.0   166377   \n",
              "4          3.0            0.0                 25.0      25.0   166377   \n",
              "\n",
              "                       date direction internal     operator_id  is_missed_call  \n",
              "0 2019-08-04 00:00:00+03:00        in    False  Not_Registered            True  \n",
              "1 2019-08-05 00:00:00+03:00       out     True        880022.0            True  \n",
              "2 2019-08-05 00:00:00+03:00       out     True        880020.0            True  \n",
              "3 2019-08-05 00:00:00+03:00       out     True        880020.0           False  \n",
              "4 2019-08-05 00:00:00+03:00       out    False        880022.0            True  "
            ],
            "text/html": [
              "\n",
              "  <div id=\"df-4dc48883-b7f1-4691-9098-95ada29c88f0\" class=\"colab-df-container\">\n",
              "    <div>\n",
              "<style scoped>\n",
              "    .dataframe tbody tr th:only-of-type {\n",
              "        vertical-align: middle;\n",
              "    }\n",
              "\n",
              "    .dataframe tbody tr th {\n",
              "        vertical-align: top;\n",
              "    }\n",
              "\n",
              "    .dataframe thead th {\n",
              "        text-align: right;\n",
              "    }\n",
              "</style>\n",
              "<table border=\"1\" class=\"dataframe\">\n",
              "  <thead>\n",
              "    <tr style=\"text-align: right;\">\n",
              "      <th></th>\n",
              "      <th>calls_count</th>\n",
              "      <th>call_duration</th>\n",
              "      <th>total_call_duration</th>\n",
              "      <th>IVR Time</th>\n",
              "      <th>user_id</th>\n",
              "      <th>date</th>\n",
              "      <th>direction</th>\n",
              "      <th>internal</th>\n",
              "      <th>operator_id</th>\n",
              "      <th>is_missed_call</th>\n",
              "    </tr>\n",
              "  </thead>\n",
              "  <tbody>\n",
              "    <tr>\n",
              "      <th>0</th>\n",
              "      <td>2.0</td>\n",
              "      <td>0.0</td>\n",
              "      <td>4.0</td>\n",
              "      <td>4.0</td>\n",
              "      <td>166377</td>\n",
              "      <td>2019-08-04 00:00:00+03:00</td>\n",
              "      <td>in</td>\n",
              "      <td>False</td>\n",
              "      <td>Not_Registered</td>\n",
              "      <td>True</td>\n",
              "    </tr>\n",
              "    <tr>\n",
              "      <th>1</th>\n",
              "      <td>3.0</td>\n",
              "      <td>0.0</td>\n",
              "      <td>5.0</td>\n",
              "      <td>5.0</td>\n",
              "      <td>166377</td>\n",
              "      <td>2019-08-05 00:00:00+03:00</td>\n",
              "      <td>out</td>\n",
              "      <td>True</td>\n",
              "      <td>880022.0</td>\n",
              "      <td>True</td>\n",
              "    </tr>\n",
              "    <tr>\n",
              "      <th>2</th>\n",
              "      <td>1.0</td>\n",
              "      <td>0.0</td>\n",
              "      <td>1.0</td>\n",
              "      <td>1.0</td>\n",
              "      <td>166377</td>\n",
              "      <td>2019-08-05 00:00:00+03:00</td>\n",
              "      <td>out</td>\n",
              "      <td>True</td>\n",
              "      <td>880020.0</td>\n",
              "      <td>True</td>\n",
              "    </tr>\n",
              "    <tr>\n",
              "      <th>3</th>\n",
              "      <td>1.0</td>\n",
              "      <td>10.0</td>\n",
              "      <td>18.0</td>\n",
              "      <td>8.0</td>\n",
              "      <td>166377</td>\n",
              "      <td>2019-08-05 00:00:00+03:00</td>\n",
              "      <td>out</td>\n",
              "      <td>True</td>\n",
              "      <td>880020.0</td>\n",
              "      <td>False</td>\n",
              "    </tr>\n",
              "    <tr>\n",
              "      <th>4</th>\n",
              "      <td>3.0</td>\n",
              "      <td>0.0</td>\n",
              "      <td>25.0</td>\n",
              "      <td>25.0</td>\n",
              "      <td>166377</td>\n",
              "      <td>2019-08-05 00:00:00+03:00</td>\n",
              "      <td>out</td>\n",
              "      <td>False</td>\n",
              "      <td>880022.0</td>\n",
              "      <td>True</td>\n",
              "    </tr>\n",
              "  </tbody>\n",
              "</table>\n",
              "</div>\n",
              "    <div class=\"colab-df-buttons\">\n",
              "\n",
              "  <div class=\"colab-df-container\">\n",
              "    <button class=\"colab-df-convert\" onclick=\"convertToInteractive('df-4dc48883-b7f1-4691-9098-95ada29c88f0')\"\n",
              "            title=\"Convert this dataframe to an interactive table.\"\n",
              "            style=\"display:none;\">\n",
              "\n",
              "  <svg xmlns=\"http://www.w3.org/2000/svg\" height=\"24px\" viewBox=\"0 -960 960 960\">\n",
              "    <path d=\"M120-120v-720h720v720H120Zm60-500h600v-160H180v160Zm220 220h160v-160H400v160Zm0 220h160v-160H400v160ZM180-400h160v-160H180v160Zm440 0h160v-160H620v160ZM180-180h160v-160H180v160Zm440 0h160v-160H620v160Z\"/>\n",
              "  </svg>\n",
              "    </button>\n",
              "\n",
              "  <style>\n",
              "    .colab-df-container {\n",
              "      display:flex;\n",
              "      gap: 12px;\n",
              "    }\n",
              "\n",
              "    .colab-df-convert {\n",
              "      background-color: #E8F0FE;\n",
              "      border: none;\n",
              "      border-radius: 50%;\n",
              "      cursor: pointer;\n",
              "      display: none;\n",
              "      fill: #1967D2;\n",
              "      height: 32px;\n",
              "      padding: 0 0 0 0;\n",
              "      width: 32px;\n",
              "    }\n",
              "\n",
              "    .colab-df-convert:hover {\n",
              "      background-color: #E2EBFA;\n",
              "      box-shadow: 0px 1px 2px rgba(60, 64, 67, 0.3), 0px 1px 3px 1px rgba(60, 64, 67, 0.15);\n",
              "      fill: #174EA6;\n",
              "    }\n",
              "\n",
              "    .colab-df-buttons div {\n",
              "      margin-bottom: 4px;\n",
              "    }\n",
              "\n",
              "    [theme=dark] .colab-df-convert {\n",
              "      background-color: #3B4455;\n",
              "      fill: #D2E3FC;\n",
              "    }\n",
              "\n",
              "    [theme=dark] .colab-df-convert:hover {\n",
              "      background-color: #434B5C;\n",
              "      box-shadow: 0px 1px 3px 1px rgba(0, 0, 0, 0.15);\n",
              "      filter: drop-shadow(0px 1px 2px rgba(0, 0, 0, 0.3));\n",
              "      fill: #FFFFFF;\n",
              "    }\n",
              "  </style>\n",
              "\n",
              "    <script>\n",
              "      const buttonEl =\n",
              "        document.querySelector('#df-4dc48883-b7f1-4691-9098-95ada29c88f0 button.colab-df-convert');\n",
              "      buttonEl.style.display =\n",
              "        google.colab.kernel.accessAllowed ? 'block' : 'none';\n",
              "\n",
              "      async function convertToInteractive(key) {\n",
              "        const element = document.querySelector('#df-4dc48883-b7f1-4691-9098-95ada29c88f0');\n",
              "        const dataTable =\n",
              "          await google.colab.kernel.invokeFunction('convertToInteractive',\n",
              "                                                    [key], {});\n",
              "        if (!dataTable) return;\n",
              "\n",
              "        const docLinkHtml = 'Like what you see? Visit the ' +\n",
              "          '<a target=\"_blank\" href=https://colab.research.google.com/notebooks/data_table.ipynb>data table notebook</a>'\n",
              "          + ' to learn more about interactive tables.';\n",
              "        element.innerHTML = '';\n",
              "        dataTable['output_type'] = 'display_data';\n",
              "        await google.colab.output.renderOutput(dataTable, element);\n",
              "        const docLink = document.createElement('div');\n",
              "        docLink.innerHTML = docLinkHtml;\n",
              "        element.appendChild(docLink);\n",
              "      }\n",
              "    </script>\n",
              "  </div>\n",
              "\n",
              "\n",
              "<div id=\"df-d5eb30fa-1d25-4919-974e-f325dd9c7fc2\">\n",
              "  <button class=\"colab-df-quickchart\" onclick=\"quickchart('df-d5eb30fa-1d25-4919-974e-f325dd9c7fc2')\"\n",
              "            title=\"Suggest charts\"\n",
              "            style=\"display:none;\">\n",
              "\n",
              "<svg xmlns=\"http://www.w3.org/2000/svg\" height=\"24px\"viewBox=\"0 0 24 24\"\n",
              "     width=\"24px\">\n",
              "    <g>\n",
              "        <path d=\"M19 3H5c-1.1 0-2 .9-2 2v14c0 1.1.9 2 2 2h14c1.1 0 2-.9 2-2V5c0-1.1-.9-2-2-2zM9 17H7v-7h2v7zm4 0h-2V7h2v10zm4 0h-2v-4h2v4z\"/>\n",
              "    </g>\n",
              "</svg>\n",
              "  </button>\n",
              "\n",
              "<style>\n",
              "  .colab-df-quickchart {\n",
              "      --bg-color: #E8F0FE;\n",
              "      --fill-color: #1967D2;\n",
              "      --hover-bg-color: #E2EBFA;\n",
              "      --hover-fill-color: #174EA6;\n",
              "      --disabled-fill-color: #AAA;\n",
              "      --disabled-bg-color: #DDD;\n",
              "  }\n",
              "\n",
              "  [theme=dark] .colab-df-quickchart {\n",
              "      --bg-color: #3B4455;\n",
              "      --fill-color: #D2E3FC;\n",
              "      --hover-bg-color: #434B5C;\n",
              "      --hover-fill-color: #FFFFFF;\n",
              "      --disabled-bg-color: #3B4455;\n",
              "      --disabled-fill-color: #666;\n",
              "  }\n",
              "\n",
              "  .colab-df-quickchart {\n",
              "    background-color: var(--bg-color);\n",
              "    border: none;\n",
              "    border-radius: 50%;\n",
              "    cursor: pointer;\n",
              "    display: none;\n",
              "    fill: var(--fill-color);\n",
              "    height: 32px;\n",
              "    padding: 0;\n",
              "    width: 32px;\n",
              "  }\n",
              "\n",
              "  .colab-df-quickchart:hover {\n",
              "    background-color: var(--hover-bg-color);\n",
              "    box-shadow: 0 1px 2px rgba(60, 64, 67, 0.3), 0 1px 3px 1px rgba(60, 64, 67, 0.15);\n",
              "    fill: var(--button-hover-fill-color);\n",
              "  }\n",
              "\n",
              "  .colab-df-quickchart-complete:disabled,\n",
              "  .colab-df-quickchart-complete:disabled:hover {\n",
              "    background-color: var(--disabled-bg-color);\n",
              "    fill: var(--disabled-fill-color);\n",
              "    box-shadow: none;\n",
              "  }\n",
              "\n",
              "  .colab-df-spinner {\n",
              "    border: 2px solid var(--fill-color);\n",
              "    border-color: transparent;\n",
              "    border-bottom-color: var(--fill-color);\n",
              "    animation:\n",
              "      spin 1s steps(1) infinite;\n",
              "  }\n",
              "\n",
              "  @keyframes spin {\n",
              "    0% {\n",
              "      border-color: transparent;\n",
              "      border-bottom-color: var(--fill-color);\n",
              "      border-left-color: var(--fill-color);\n",
              "    }\n",
              "    20% {\n",
              "      border-color: transparent;\n",
              "      border-left-color: var(--fill-color);\n",
              "      border-top-color: var(--fill-color);\n",
              "    }\n",
              "    30% {\n",
              "      border-color: transparent;\n",
              "      border-left-color: var(--fill-color);\n",
              "      border-top-color: var(--fill-color);\n",
              "      border-right-color: var(--fill-color);\n",
              "    }\n",
              "    40% {\n",
              "      border-color: transparent;\n",
              "      border-right-color: var(--fill-color);\n",
              "      border-top-color: var(--fill-color);\n",
              "    }\n",
              "    60% {\n",
              "      border-color: transparent;\n",
              "      border-right-color: var(--fill-color);\n",
              "    }\n",
              "    80% {\n",
              "      border-color: transparent;\n",
              "      border-right-color: var(--fill-color);\n",
              "      border-bottom-color: var(--fill-color);\n",
              "    }\n",
              "    90% {\n",
              "      border-color: transparent;\n",
              "      border-bottom-color: var(--fill-color);\n",
              "    }\n",
              "  }\n",
              "</style>\n",
              "\n",
              "  <script>\n",
              "    async function quickchart(key) {\n",
              "      const quickchartButtonEl =\n",
              "        document.querySelector('#' + key + ' button');\n",
              "      quickchartButtonEl.disabled = true;  // To prevent multiple clicks.\n",
              "      quickchartButtonEl.classList.add('colab-df-spinner');\n",
              "      try {\n",
              "        const charts = await google.colab.kernel.invokeFunction(\n",
              "            'suggestCharts', [key], {});\n",
              "      } catch (error) {\n",
              "        console.error('Error during call to suggestCharts:', error);\n",
              "      }\n",
              "      quickchartButtonEl.classList.remove('colab-df-spinner');\n",
              "      quickchartButtonEl.classList.add('colab-df-quickchart-complete');\n",
              "    }\n",
              "    (() => {\n",
              "      let quickchartButtonEl =\n",
              "        document.querySelector('#df-d5eb30fa-1d25-4919-974e-f325dd9c7fc2 button');\n",
              "      quickchartButtonEl.style.display =\n",
              "        google.colab.kernel.accessAllowed ? 'block' : 'none';\n",
              "    })();\n",
              "  </script>\n",
              "</div>\n",
              "\n",
              "    </div>\n",
              "  </div>\n"
            ],
            "application/vnd.google.colaboratory.intrinsic+json": {
              "type": "dataframe",
              "variable_name": "telecom_dataset_outliers",
              "summary": "{\n  \"name\": \"telecom_dataset_outliers\",\n  \"rows\": 53902,\n  \"fields\": [\n    {\n      \"column\": \"calls_count\",\n      \"properties\": {\n        \"dtype\": \"number\",\n        \"std\": 21.465403210878048,\n        \"min\": 1.0,\n        \"max\": 205.0,\n        \"num_unique_values\": 201,\n        \"samples\": [\n          110.0,\n          13.0,\n          31.0\n        ],\n        \"semantic_type\": \"\",\n        \"description\": \"\"\n      }\n    },\n    {\n      \"column\": \"call_duration\",\n      \"properties\": {\n        \"dtype\": \"number\",\n        \"std\": 1436.3656158174897,\n        \"min\": 0.0,\n        \"max\": 12059.0,\n        \"num_unique_values\": 5012,\n        \"samples\": [\n          4994.0,\n          4196.0,\n          1307.0\n        ],\n        \"semantic_type\": \"\",\n        \"description\": \"\"\n      }\n    },\n    {\n      \"column\": \"total_call_duration\",\n      \"properties\": {\n        \"dtype\": \"number\",\n        \"std\": 1725.3271060099742,\n        \"min\": 0.0,\n        \"max\": 14361.0,\n        \"num_unique_values\": 5658,\n        \"samples\": [\n          11534.0,\n          2027.0,\n          7266.0\n        ],\n        \"semantic_type\": \"\",\n        \"description\": \"\"\n      }\n    },\n    {\n      \"column\": \"IVR Time\",\n      \"properties\": {\n        \"dtype\": \"number\",\n        \"std\": 411.42445622231844,\n        \"min\": 0.0,\n        \"max\": 3674.0,\n        \"num_unique_values\": 2293,\n        \"samples\": [\n          3148.0,\n          1586.0,\n          997.0\n        ],\n        \"semantic_type\": \"\",\n        \"description\": \"\"\n      }\n    },\n    {\n      \"column\": \"user_id\",\n      \"properties\": {\n        \"dtype\": \"number\",\n        \"std\": 598,\n        \"min\": 166377,\n        \"max\": 168606,\n        \"num_unique_values\": 307,\n        \"samples\": [\n          167653,\n          166843,\n          167185\n        ],\n        \"semantic_type\": \"\",\n        \"description\": \"\"\n      }\n    },\n    {\n      \"column\": \"date\",\n      \"properties\": {\n        \"dtype\": \"date\",\n        \"min\": \"2019-08-02 00:00:00+03:00\",\n        \"max\": \"2019-11-28 00:00:00+03:00\",\n        \"num_unique_values\": 119,\n        \"samples\": [\n          \"2019-10-18 00:00:00+03:00\",\n          \"2019-08-02 00:00:00+03:00\",\n          \"2019-08-08 00:00:00+03:00\"\n        ],\n        \"semantic_type\": \"\",\n        \"description\": \"\"\n      }\n    },\n    {\n      \"column\": \"direction\",\n      \"properties\": {\n        \"dtype\": \"category\",\n        \"num_unique_values\": 2,\n        \"samples\": [\n          \"out\",\n          \"in\"\n        ],\n        \"semantic_type\": \"\",\n        \"description\": \"\"\n      }\n    },\n    {\n      \"column\": \"internal\",\n      \"properties\": {\n        \"dtype\": \"category\",\n        \"num_unique_values\": 3,\n        \"samples\": [\n          false,\n          true\n        ],\n        \"semantic_type\": \"\",\n        \"description\": \"\"\n      }\n    },\n    {\n      \"column\": \"operator_id\",\n      \"properties\": {\n        \"dtype\": \"category\",\n        \"num_unique_values\": 1093,\n        \"samples\": [\n          910540.0,\n          932050.0\n        ],\n        \"semantic_type\": \"\",\n        \"description\": \"\"\n      }\n    },\n    {\n      \"column\": \"is_missed_call\",\n      \"properties\": {\n        \"dtype\": \"boolean\",\n        \"num_unique_values\": 2,\n        \"samples\": [\n          false,\n          true\n        ],\n        \"semantic_type\": \"\",\n        \"description\": \"\"\n      }\n    }\n  ]\n}"
            }
          },
          "metadata": {},
          "execution_count": 22
        }
      ]
    },
    {
      "cell_type": "code",
      "source": [
        "#Corroboramos que no existan valores nulos\n",
        "telecom_dataset_outliers_nulos = telecom_dataset.isnull().sum()\n",
        "telecom_dataset_outliers_nulos"
      ],
      "metadata": {
        "colab": {
          "base_uri": "https://localhost:8080/",
          "height": 398
        },
        "id": "GhGFd6HxEtY8",
        "outputId": "24605022-237d-4fd0-c0e0-ce197185951d"
      },
      "execution_count": 23,
      "outputs": [
        {
          "output_type": "execute_result",
          "data": {
            "text/plain": [
              "user_id                0\n",
              "date                   0\n",
              "direction              0\n",
              "internal               0\n",
              "operator_id            0\n",
              "is_missed_call         0\n",
              "calls_count            0\n",
              "call_duration          0\n",
              "total_call_duration    0\n",
              "IVR Time               0\n",
              "dtype: int64"
            ],
            "text/html": [
              "<div>\n",
              "<style scoped>\n",
              "    .dataframe tbody tr th:only-of-type {\n",
              "        vertical-align: middle;\n",
              "    }\n",
              "\n",
              "    .dataframe tbody tr th {\n",
              "        vertical-align: top;\n",
              "    }\n",
              "\n",
              "    .dataframe thead th {\n",
              "        text-align: right;\n",
              "    }\n",
              "</style>\n",
              "<table border=\"1\" class=\"dataframe\">\n",
              "  <thead>\n",
              "    <tr style=\"text-align: right;\">\n",
              "      <th></th>\n",
              "      <th>0</th>\n",
              "    </tr>\n",
              "  </thead>\n",
              "  <tbody>\n",
              "    <tr>\n",
              "      <th>user_id</th>\n",
              "      <td>0</td>\n",
              "    </tr>\n",
              "    <tr>\n",
              "      <th>date</th>\n",
              "      <td>0</td>\n",
              "    </tr>\n",
              "    <tr>\n",
              "      <th>direction</th>\n",
              "      <td>0</td>\n",
              "    </tr>\n",
              "    <tr>\n",
              "      <th>internal</th>\n",
              "      <td>0</td>\n",
              "    </tr>\n",
              "    <tr>\n",
              "      <th>operator_id</th>\n",
              "      <td>0</td>\n",
              "    </tr>\n",
              "    <tr>\n",
              "      <th>is_missed_call</th>\n",
              "      <td>0</td>\n",
              "    </tr>\n",
              "    <tr>\n",
              "      <th>calls_count</th>\n",
              "      <td>0</td>\n",
              "    </tr>\n",
              "    <tr>\n",
              "      <th>call_duration</th>\n",
              "      <td>0</td>\n",
              "    </tr>\n",
              "    <tr>\n",
              "      <th>total_call_duration</th>\n",
              "      <td>0</td>\n",
              "    </tr>\n",
              "    <tr>\n",
              "      <th>IVR Time</th>\n",
              "      <td>0</td>\n",
              "    </tr>\n",
              "  </tbody>\n",
              "</table>\n",
              "</div><br><label><b>dtype:</b> int64</label>"
            ]
          },
          "metadata": {},
          "execution_count": 23
        }
      ]
    },
    {
      "cell_type": "markdown",
      "metadata": {
        "id": "PRRN44IU8qE-"
      },
      "source": [
        "## **ANALISIS EXPLORATORIO DE DATOS**"
      ]
    },
    {
      "cell_type": "markdown",
      "source": [
        "Contamos con dos set de datos:\n",
        "\n",
        "telecom_dataset_us.csv contiene la información de las llamadas realizadas desde/al callcenter y de los operadores que tomaron/realizaron las llamadas.\n",
        "\n",
        "telecom_clientes_us.csv contiene la información de los clientes.\n",
        "\n",
        "El dataset comprimido telecom_dataset_us.csv contiene las siguientes columnas:\n",
        "\n",
        "user_id: ID de la cuenta de cliente que debe ser unico\n",
        "\n",
        "date: fecha en la que se recuperaron las estadísticas.Esta corresponde a un formato dd/MM/YYYY HH:mm para su analisis\n",
        "\n",
        "direction: \"dirección\" de llamada (out para saliente, in para entrante)\n",
        "\n",
        "internal: si la llamada fue interna (entre los operadores de un cliente o clienta)\n",
        "\n",
        "operator_id: identificador del operador\n",
        "\n",
        "is_missed_call: si fue una llamada perdida\n",
        "\n",
        "calls_count: número de llamadas\n",
        "\n",
        "call_duration: duración de la llamada (sin incluir el tiempo de espera)\n",
        "\n",
        "total_call_duration: duración de la llamada (incluido el tiempo de espera)\n",
        "\n",
        "El conjunto de datos telecom_clients_us.csv tiene las siguientes columnas:\n",
        "\n",
        "user_id: ID de usuario/a\n",
        "\n",
        "tariff_plan: tarifa actual de la clientela\n",
        "\n",
        "date_start: fecha de registro de la clientela"
      ],
      "metadata": {
        "id": "-nlDImr5FhzC"
      }
    },
    {
      "cell_type": "markdown",
      "source": [
        "**VARIABLES NUMERICAS**"
      ],
      "metadata": {
        "id": "D5GqnwCHFsfS"
      }
    },
    {
      "cell_type": "markdown",
      "source": [
        "HISTOGRAMA DE CALLS COUNT"
      ],
      "metadata": {
        "id": "s_GZ3Bx0GwiG"
      }
    },
    {
      "cell_type": "code",
      "execution_count": 25,
      "metadata": {
        "id": "hhiAkgJj8xEz",
        "colab": {
          "base_uri": "https://localhost:8080/",
          "height": 742
        },
        "outputId": "805623e3-e198-470f-e301-6e5a960eb7dd"
      },
      "outputs": [
        {
          "output_type": "display_data",
          "data": {
            "text/plain": [
              "<Figure size 800x600 with 1 Axes>"
            ],
            "image/png": "[encoded data removed]"
          },
          "metadata": {}
        }
      ],
      "source": [
        "plt.figure(figsize=(8, 6))\n",
        "plt.hist(telecom_dataset_outliers['calls_count'], bins=20, color='skyblue', edgecolor='black')\n",
        "plt.title(f'Histograma de calls count')\n",
        "plt.xlabel(telecom_dataset_outliers['calls_count'])\n",
        "plt.ylabel('Frecuencia')\n",
        "plt.grid(True)\n",
        "plt.show()"
      ]
    },
    {
      "cell_type": "markdown",
      "source": [
        "HISTOGRAMA DE CALL DURATION"
      ],
      "metadata": {
        "id": "IC_hdGoTG1uW"
      }
    },
    {
      "cell_type": "code",
      "source": [
        "plt.figure(figsize=(8, 6))\n",
        "plt.hist(telecom_dataset_outliers['call_duration'], bins=20, color='skyblue', edgecolor='black')\n",
        "plt.title(f'Histograma de call duration')\n",
        "plt.xlabel(telecom_dataset_outliers['call_duration'])\n",
        "plt.ylabel('Frecuencia')\n",
        "plt.grid(True)\n",
        "plt.show()"
      ],
      "metadata": {
        "colab": {
          "base_uri": "https://localhost:8080/",
          "height": 742
        },
        "id": "DeYHyMmKG8sC",
        "outputId": "cc933137-5830-46e9-ad9b-15864fb96668"
      },
      "execution_count": 26,
      "outputs": [
        {
          "output_type": "display_data",
          "data": {
            "text/plain": [
              "<Figure size 800x600 with 1 Axes>"
            ],
            "image/png": "[encoded data removed]"
          },
          "metadata": {}
        }
      ]
    },
    {
      "cell_type": "markdown",
      "source": [
        "HISTOGRAMA DE TOTAL CALL DURATION"
      ],
      "metadata": {
        "id": "UOXR1kpcHVkn"
      }
    },
    {
      "cell_type": "code",
      "source": [
        "plt.figure(figsize=(8, 6))\n",
        "plt.hist(telecom_dataset_outliers['total_call_duration'], bins=20, color='skyblue', edgecolor='black')\n",
        "plt.title(f'Histograma de total call duration')\n",
        "plt.xlabel(telecom_dataset_outliers['total_call_duration'])\n",
        "plt.ylabel('Frecuencia')\n",
        "plt.grid(True)\n",
        "plt.show()"
      ],
      "metadata": {
        "colab": {
          "base_uri": "https://localhost:8080/",
          "height": 742
        },
        "id": "xdLiyOuEHZri",
        "outputId": "cadb9a57-a91a-4ff0-a18d-2fad992aee98"
      },
      "execution_count": 27,
      "outputs": [
        {
          "output_type": "display_data",
          "data": {
            "text/plain": [
              "<Figure size 800x600 with 1 Axes>"
            ],
            "image/png": "[encoded data removed]"
          },
          "metadata": {}
        }
      ]
    },
    {
      "cell_type": "markdown",
      "source": [
        "HISTOGRAMA DE IVR TIME"
      ],
      "metadata": {
        "id": "1Epn1AqsHh5h"
      }
    },
    {
      "cell_type": "code",
      "source": [
        "plt.figure(figsize=(8, 6))\n",
        "plt.hist(telecom_dataset_outliers['IVR Time'], bins=20, color='skyblue', edgecolor='black')\n",
        "plt.title(f'Histograma de IVR Time')\n",
        "plt.xlabel(telecom_dataset_outliers['IVR Time'])\n",
        "plt.ylabel('Frecuencia')\n",
        "plt.grid(True)\n",
        "plt.show()"
      ],
      "metadata": {
        "colab": {
          "base_uri": "https://localhost:8080/",
          "height": 742
        },
        "id": "DgH5yc3EHkuT",
        "outputId": "2c8e3c4f-8911-40e5-8e3d-77441d20247f"
      },
      "execution_count": 29,
      "outputs": [
        {
          "output_type": "display_data",
          "data": {
            "text/plain": [
              "<Figure size 800x600 with 1 Axes>"
            ],
            "image/png": "[encoded data removed]"
          },
          "metadata": {}
        }
      ]
    },
    {
      "cell_type": "markdown",
      "source": [
        "**VARIABLES CATEGORICAS**"
      ],
      "metadata": {
        "id": "dXdYWlNLFx1K"
      }
    },
    {
      "cell_type": "markdown",
      "source": [
        "GRAFICO DE PASTEL PARA DIRECTION"
      ],
      "metadata": {
        "id": "3g7kefveIl-y"
      }
    },
    {
      "cell_type": "code",
      "source": [
        "frecuencia_direction = telecom_dataset_outliers['direction'].value_counts()\n",
        "plt.figure(figsize=(8, 8))\n",
        "frecuencia_direction.plot.pie(autopct='%1.1f%%', colors=sns.color_palette(\"pastel\", len(frecuencia_direction)))\n",
        "plt.title(f'Distribución de direction')\n",
        "plt.ylabel('')\n",
        "plt.show()"
      ],
      "metadata": {
        "colab": {
          "base_uri": "https://localhost:8080/",
          "height": 675
        },
        "id": "7ZOHljCTIoV8",
        "outputId": "c7670aca-3670-44f0-e6d1-4a4702e86edb"
      },
      "execution_count": 30,
      "outputs": [
        {
          "output_type": "display_data",
          "data": {
            "text/plain": [
              "<Figure size 800x800 with 1 Axes>"
            ],
            "image/png": "[encoded data removed]"
          },
          "metadata": {}
        }
      ]
    },
    {
      "cell_type": "markdown",
      "source": [
        "GRAFICO DE PASTEL PARA INTERNAL"
      ],
      "metadata": {
        "id": "mk8Mb0vcJDSn"
      }
    },
    {
      "cell_type": "code",
      "source": [
        "frecuencia_internal = telecom_dataset_outliers['internal'].value_counts()\n",
        "plt.figure(figsize=(8, 8))\n",
        "frecuencia_internal.plot.pie(autopct='%1.1f%%', colors=sns.color_palette(\"pastel\", len(frecuencia_internal)))\n",
        "plt.title(f'Distribución de internal')\n",
        "plt.ylabel('')\n",
        "plt.show()"
      ],
      "metadata": {
        "colab": {
          "base_uri": "https://localhost:8080/",
          "height": 675
        },
        "id": "ilVRYIWiJMRD",
        "outputId": "92f8aa9d-6b79-4c77-a77c-5650551d4d92"
      },
      "execution_count": 31,
      "outputs": [
        {
          "output_type": "display_data",
          "data": {
            "text/plain": [
              "<Figure size 800x800 with 1 Axes>"
            ],
            "image/png": "[encoded data removed]"
          },
          "metadata": {}
        }
      ]
    },
    {
      "cell_type": "markdown",
      "source": [
        "GRAFICO DE PASTEL PARA IS MISSED CALL"
      ],
      "metadata": {
        "id": "DdpIP8CBJZb4"
      }
    },
    {
      "cell_type": "code",
      "source": [
        "frecuencia_ismissedcall = telecom_dataset_outliers['is_missed_call'].value_counts()\n",
        "plt.figure(figsize=(8, 8))\n",
        "frecuencia_ismissedcall.plot.pie(autopct='%1.1f%%', colors=sns.color_palette(\"pastel\", len(frecuencia_ismissedcall)))\n",
        "plt.title(f'Distribución de is missed call')\n",
        "plt.ylabel('')\n",
        "plt.show()"
      ],
      "metadata": {
        "colab": {
          "base_uri": "https://localhost:8080/",
          "height": 675
        },
        "id": "YNz9O4E6Jelk",
        "outputId": "ec4466ec-7afe-4429-fccf-d5dd522192b5"
      },
      "execution_count": 32,
      "outputs": [
        {
          "output_type": "display_data",
          "data": {
            "text/plain": [
              "<Figure size 800x800 with 1 Axes>"
            ],
            "image/png": "[encoded data removed]"
          },
          "metadata": {}
        }
      ]
    },
    {
      "cell_type": "markdown",
      "source": [
        "## **IDENTIFICACION DE OPERADORES INEFICACES**"
      ],
      "metadata": {
        "id": "DLyN2QHaJv4b"
      }
    },
    {
      "cell_type": "code",
      "source": [
        "operadores_ineficaces = []"
      ],
      "metadata": {
        "id": "wefCpw2qM6Y1"
      },
      "execution_count": 33,
      "outputs": []
    },
    {
      "cell_type": "markdown",
      "source": [
        "**LLAMADAS ENTRANTES**"
      ],
      "metadata": {
        "id": "NXd-CQ1sJ7Bd"
      }
    },
    {
      "cell_type": "code",
      "source": [
        "#Operadores con gran cantidad de llamadas entrantes\n",
        "llamadas_entrantes = telecom_dataset_outliers[telecom_dataset_outliers['direction'] == 'in']\n",
        "umbral_entrantes = llamadas_entrantes['calls_count'].quantile(0.75)\n",
        "operadores_ineficaces_llamadas_entrantes = llamadas_entrantes[llamadas_entrantes['calls_count'] > umbral_entrantes]['operator_id'].unique().tolist()\n",
        "\n",
        "#Colocar a los operadores ineficaces en llamadas entrantes a la lista de operadores ineficaces\n",
        "operadores_ineficaces_llamadas_entrantes.extend(operadores_ineficaces_llamadas_entrantes)\n",
        "\n",
        "#Primeros 50 operadores ineficaces en llamadas entrantes\n",
        "top_50_operadores_llamadas_entrantes = llamadas_entrantes.groupby('operator_id')['calls_count'].sum().sort_values(ascending=False).head(50)\n",
        "print(\"Top 50 operadores con más llamadas entrantes:\")\n",
        "print(top_50_operadores_llamadas_entrantes)"
      ],
      "metadata": {
        "colab": {
          "base_uri": "https://localhost:8080/"
        },
        "id": "3H0F1TRsJ1Pt",
        "outputId": "b68df243-3207-44a8-b61e-cc8b4f2c44ce"
      },
      "execution_count": 39,
      "outputs": [
        {
          "output_type": "stream",
          "name": "stdout",
          "text": [
            "Top 50 operadores con más llamadas entrantes:\n",
            "operator_id\n",
            "Not_Registered    62361.6\n",
            "913938.0           5221.0\n",
            "952948.0           3418.3\n",
            "913942.0           2641.0\n",
            "893804.0           2632.0\n",
            "921318.0           2485.0\n",
            "940588.0           2382.0\n",
            "931458.0           2129.0\n",
            "940630.0           2100.0\n",
            "901880.0           2064.0\n",
            "921818.0           2004.0\n",
            "919790.0           1793.0\n",
            "929424.0           1432.0\n",
            "885890.0           1363.0\n",
            "919554.0           1346.0\n",
            "919794.0           1327.0\n",
            "919552.0           1239.0\n",
            "938896.0           1224.0\n",
            "919166.0           1209.0\n",
            "885876.0           1152.0\n",
            "919204.0           1114.1\n",
            "923526.0           1017.0\n",
            "908958.0           1010.0\n",
            "919206.0            999.0\n",
            "940658.0            939.0\n",
            "939762.0            935.0\n",
            "925104.0            919.0\n",
            "937956.0            901.0\n",
            "882686.0            837.0\n",
            "906406.0            836.0\n",
            "913788.0            831.0\n",
            "919792.0            829.0\n",
            "918978.0            769.0\n",
            "908960.0            756.0\n",
            "891410.0            742.0\n",
            "940622.0            729.0\n",
            "919164.0            722.0\n",
            "899082.0            713.0\n",
            "918986.0            713.0\n",
            "939706.0            653.0\n",
            "940616.0            645.0\n",
            "882684.0            643.0\n",
            "901884.0            614.0\n",
            "906404.0            599.0\n",
            "940624.0            597.0\n",
            "890404.0            582.0\n",
            "890402.0            548.0\n",
            "891414.0            528.0\n",
            "889754.0            511.0\n",
            "939370.0            502.0\n",
            "Name: calls_count, dtype: float64\n"
          ]
        }
      ]
    },
    {
      "cell_type": "markdown",
      "source": [
        "**TIEMPO DE ESPERA**"
      ],
      "metadata": {
        "id": "PxjmW3xmOGa4"
      }
    },
    {
      "cell_type": "code",
      "source": [
        "umbral_IVR = telecom_dataset_outliers['IVR Time'].quantile(0.75)\n",
        "\n",
        "#Operadores con tiempo alto de espera\n",
        "ineficaces_tiempo_espera = telecom_dataset_outliers[telecom_dataset_outliers['IVR Time'] > umbral_IVR]['operator_id'].unique().tolist()\n",
        "\n",
        "#Agregar operadores ineficaces en tiempo de espera a la lista de operadores ineficaces\n",
        "operadores_ineficaces.extend(ineficaces_tiempo_espera)\n",
        "\n",
        "#Primeros 50 operadores con más tiempo de espera\n",
        "top_50_operadores_tiempo_espera = telecom_dataset_outliers.groupby('operator_id')['IVR Time'].sum().sort_values(ascending=False).head(50)\n",
        "print(\"\\nTop 50 operadores con más tiempo de espera:\")\n",
        "print(top_50_operadores_tiempo_espera)"
      ],
      "metadata": {
        "colab": {
          "base_uri": "https://localhost:8080/"
        },
        "id": "KUVQERarOIuD",
        "outputId": "1ca36555-158e-4c47-806a-6983dc8358ed"
      },
      "execution_count": 40,
      "outputs": [
        {
          "output_type": "stream",
          "name": "stdout",
          "text": [
            "\n",
            "Top 50 operadores con más tiempo de espera:\n",
            "operator_id\n",
            "Not_Registered    1174379.8\n",
            "945286.0           147653.6\n",
            "945302.0           137057.2\n",
            "885876.0           129495.4\n",
            "879898.0           112972.0\n",
            "945322.0           105945.0\n",
            "904016.0            99195.0\n",
            "945290.0            96435.0\n",
            "885890.0            92751.2\n",
            "945900.0            90521.0\n",
            "893804.0            87454.0\n",
            "945278.0            83927.4\n",
            "921318.0            79557.0\n",
            "919364.0            78702.8\n",
            "931458.0            76407.8\n",
            "929428.0            75788.8\n",
            "945310.0            74571.8\n",
            "945904.0            69331.4\n",
            "882686.0            69178.0\n",
            "919302.0            66061.0\n",
            "945294.0            66024.0\n",
            "919162.0            63669.0\n",
            "929426.0            63135.2\n",
            "919362.0            61991.0\n",
            "902748.0            61217.0\n",
            "919196.0            60806.0\n",
            "919202.0            60695.0\n",
            "905538.0            60412.0\n",
            "919790.0            59900.0\n",
            "938896.0            59330.0\n",
            "919314.0            59171.8\n",
            "921818.0            59042.0\n",
            "926486.0            59010.0\n",
            "902744.0            57388.0\n",
            "915556.0            57299.0\n",
            "945324.0            56585.0\n",
            "945304.0            56540.0\n",
            "901880.0            56198.0\n",
            "919310.0            56192.0\n",
            "947648.0            56120.0\n",
            "945902.0            55230.0\n",
            "913938.0            55142.0\n",
            "902746.0            54318.0\n",
            "945316.0            53958.0\n",
            "940616.0            53370.0\n",
            "919374.0            53292.0\n",
            "945296.0            52591.0\n",
            "947658.0            52032.0\n",
            "893674.0            51203.0\n",
            "947654.0            51120.6\n",
            "Name: IVR Time, dtype: float64\n"
          ]
        }
      ]
    },
    {
      "cell_type": "markdown",
      "source": [
        "**LLAMADAS SALIENTES**"
      ],
      "metadata": {
        "id": "IV2NiFc9PUDu"
      }
    },
    {
      "cell_type": "code",
      "source": [
        "#Operadores con pocas llamadas salientes\n",
        "operadores_llamadas_salientes = telecom_dataset_outliers[telecom_dataset_outliers['direction'] == 'out']\n",
        "umbral_llamadas_salientes = operadores_llamadas_salientes['calls_count'].quantile(0.25)\n",
        "ineficaces_llamadas_salientes = operadores_llamadas_salientes[operadores_llamadas_salientes['calls_count'] < umbral_llamadas_salientes]['operator_id'].unique().tolist()\n",
        "\n",
        "#Agregar operadores ineficaces en llamadas salientes a la lista de operadores ineficaces\n",
        "operadores_ineficaces.extend(ineficaces_llamadas_salientes)\n",
        "\n",
        "#Primeros 50 operadores con menos llamadas salientes\n",
        "top_50_menos_llamadas_salientes = operadores_llamadas_salientes.groupby('operator_id')['calls_count'].sum().sort_values().head(50)\n",
        "print(\"\\nTop 50 operadores con menos llamadas salientes:\")\n",
        "print(top_50_menos_llamadas_salientes)\n"
      ],
      "metadata": {
        "colab": {
          "base_uri": "https://localhost:8080/"
        },
        "id": "IkAOGsbPPWRv",
        "outputId": "d94c10ba-b4cb-46db-e4e0-0dca91d3bafb"
      },
      "execution_count": 41,
      "outputs": [
        {
          "output_type": "stream",
          "name": "stdout",
          "text": [
            "\n",
            "Top 50 operadores con menos llamadas salientes:\n",
            "operator_id\n",
            "937772.0    1.0\n",
            "937716.0    1.0\n",
            "954284.0    1.0\n",
            "914256.0    1.0\n",
            "940610.0    1.0\n",
            "937956.0    1.0\n",
            "963716.0    1.0\n",
            "914272.0    1.0\n",
            "937710.0    1.0\n",
            "890234.0    1.0\n",
            "935956.0    1.0\n",
            "914440.0    1.0\n",
            "969284.0    1.0\n",
            "945058.0    1.0\n",
            "937778.0    1.0\n",
            "914626.0    1.0\n",
            "941826.0    1.0\n",
            "941816.0    1.0\n",
            "905862.0    1.0\n",
            "895266.0    1.0\n",
            "954086.0    1.0\n",
            "955086.0    1.0\n",
            "891192.0    1.0\n",
            "918988.0    1.0\n",
            "919214.0    1.0\n",
            "919206.0    1.0\n",
            "944246.0    1.0\n",
            "966686.0    1.0\n",
            "954318.0    1.0\n",
            "969262.0    1.0\n",
            "924572.0    1.0\n",
            "900192.0    1.0\n",
            "891918.0    1.0\n",
            "937770.0    1.0\n",
            "932246.0    1.0\n",
            "930326.0    1.0\n",
            "937720.0    1.0\n",
            "883898.0    1.0\n",
            "970258.0    1.0\n",
            "882478.0    1.0\n",
            "908080.0    1.0\n",
            "905480.0    1.0\n",
            "958458.0    1.0\n",
            "945274.0    1.0\n",
            "944560.0    1.0\n",
            "902238.0    1.0\n",
            "946072.0    1.0\n",
            "949420.0    1.0\n",
            "970240.0    1.0\n",
            "937872.0    1.0\n",
            "Name: calls_count, dtype: float64\n"
          ]
        }
      ]
    },
    {
      "cell_type": "markdown",
      "source": [
        "### **LISTA FINAL DE OPERADORES INEFICACES**"
      ],
      "metadata": {
        "id": "2BSjsnjdQnGl"
      }
    },
    {
      "cell_type": "code",
      "source": [
        "#Eliminar duplicados en la lista final\n",
        "operadores_ineficaces = list(set(operadores_ineficaces))"
      ],
      "metadata": {
        "id": "bYmCct-hQrOk"
      },
      "execution_count": 42,
      "outputs": []
    },
    {
      "cell_type": "code",
      "source": [
        "#Resultado final\n",
        "print(\"\\nLista total de operadores ineficaces:\")\n",
        "print(operadores_ineficaces)"
      ],
      "metadata": {
        "colab": {
          "base_uri": "https://localhost:8080/"
        },
        "id": "YWGp_i-SQ62g",
        "outputId": "423f13a4-f7a9-461c-e181-362a9a1f7c87"
      },
      "execution_count": 43,
      "outputs": [
        {
          "output_type": "stream",
          "name": "stdout",
          "text": [
            "\n",
            "Lista total de operadores ineficaces:\n",
            "[882688.0, 919552.0, 882690.0, 919554.0, 958468.0, 937988.0, 897030.0, 899076.0, 954376.0, 958472.0, 899082.0, 954378.0, 954380.0, 958470.0, 958478.0, 958480.0, 923666.0, 935956.0, 926872.0, 966686.0, 888868.0, 938022.0, 915504.0, 901178.0, 964666.0, 948286.0, 952392.0, 944210.0, 929876.0, 903254.0, 938070.0, 944216.0, 938072.0, 944218.0, 938074.0, 929884.0, 944220.0, 944222.0, 938078.0, 938080.0, 942174.0, 962658.0, 944226.0, 915556.0, 944228.0, 915558.0, 933986.0, 964712.0, 964716.0, 960620.0, 933996.0, 934000.0, 944246.0, 928926.0, 903292.0, 925826.0, 925828.0, 960648.0, 952458.0, 952460.0, 952462.0, 903312.0, 952466.0, 952468.0, 903318.0, 960666.0, 915614.0, 960670.0, 960672.0, 927916.0, 950444.0, 936110.0, 907440.0, 917680.0, 907442.0, 899250.0, 909502.0, 895172.0, 958672.0, 884946.0, 932050.0, 905430.0, 921814.0, 905432.0, 921818.0, 925922.0, 930020.0, 901350.0, 919790.0, 919792.0, 907504.0, 919794.0, 893172.0, 905480.0, 891152.0, 891154.0, 954642.0, 891156.0, 891158.0, 891160.0, 891162.0, 954650.0, 891166.0, 891170.0, 895266.0, 934188.0, 891192.0, 973120.0, 905538.0, 905542.0, 952656.0, 962902.0, 917846.0, 903512.0, 917850.0, 944474.0, 905564.0, 917852.0, 905566.0, 971102.0, 944476.0, 917856.0, 919906.0, 905570.0, 905574.0, 919910.0, 936296.0, 891252.0, 901492.0, 917876.0, 913788.0, 954750.0, 917890.0, 936324.0, 930186.0, 940430.0, 940432.0, 950672.0, 940434.0, 940436.0, 940438.0, 932246.0, 940440.0, 946582.0, 940442.0, 940456.0, 940458.0, 940460.0, 938414.0, 944560.0, 960950.0, 940474.0, 936382.0, 932292.0, 940486.0, 913868.0, 901584.0, 932304.0, 901586.0, 901588.0, 893400.0, 893402.0, 928228.0, 926184.0, 887276.0, 893420.0, 887278.0, 887280.0, 887282.0, 915958.0, 922114.0, 944644.0, 944646.0, 944648.0, 891410.0, 913938.0, 948756.0, 891414.0, 913942.0, 891416.0, 948758.0, 934426.0, 928282.0, 930326.0, 950806.0, 922142.0, 940568.0, 967204.0, 961064.0, 940588.0, 969262.0, 940596.0, 928312.0, 969272.0, 913984.0, 889410.0, 936514.0, 940610.0, 969284.0, 940614.0, 969286.0, 940616.0, 934476.0, 969294.0, 940622.0, 940624.0, 952914.0, 920146.0, 952916.0, 909910.0, 940630.0, 940634.0, 957022.0, 926312.0, 937980.0, 940652.0, 895598.0, 905840.0, 965232.0, 905842.0, 940658.0, 905844.0, 938612.0, 952948.0, 914036.0, 938614.0, 944764.0, 944766.0, 881278.0, 928382.0, 937984.0, 914050.0, 914052.0, 905862.0, 934534.0, 952968.0, 905870.0, 967310.0, 959118.0, 932498.0, 932500.0, 932502.0, 955032.0, 969386.0, 907952.0, 950972.0, 907964.0, 910018.0, 907970.0, 907972.0, 924356.0, 905930.0, 955082.0, 899788.0, 905932.0, 899790.0, 930510.0, 965328.0, 955086.0, 955090.0, 907986.0, 907982.0, 905934.0, 955094.0, 924370.0, 907994.0, 908002.0, 893674.0, 940782.0, 940788.0, 901880.0, 914168.0, 914170.0, 901884.0, 901886.0, 940802.0, 893700.0, 928518.0, 951046.0, 940814.0, 926486.0, 926490.0, 930586.0, 955164.0, 940828.0, 895774.0, 930590.0, 895776.0, 930594.0, 903978.0, 940842.0, 946988.0, 908078.0, 908080.0, 940848.0, 908082.0, 922428.0, 914238.0, 914240.0, 932676.0, 904014.0, 959312.0, 904016.0, 897872.0, 914256.0, 906070.0, 938842.0, 914266.0, 899932.0, 906076.0, 920414.0, 920416.0, 891744.0, 891746.0, 914272.0, 930660.0, 897894.0, 904038.0, 901992.0, 930662.0, 922474.0, 893804.0, 901996.0, 922476.0, 904044.0, 918390.0, 922486.0, 912252.0, 899964.0, 899968.0, 924544.0, 924546.0, 930690.0, 899972.0, 932750.0, 938896.0, 951186.0, 932754.0, 945046.0, 940952.0, 889754.0, 924572.0, 945052.0, 965538.0, 914338.0, 918436.0, 965540.0, 965542.0, 945058.0, 965544.0, 912296.0, 882684.0, 914348.0, 891824.0, 885682.0, 918452.0, 932798.0, 916424.0, 943050.0, 943066.0, 932836.0, 932856.0, 887802.0, 951290.0, 891900.0, 914426.0, 930814.0, 930816.0, 891908.0, 930820.0, 'Not_Registered', 896008.0, 904200.0, 904202.0, 896010.0, 904204.0, 914440.0, 891918.0, 896014.0, 896016.0, 961552.0, 896018.0, 953362.0, 951332.0, 891946.0, 906294.0, 906296.0, 922698.0, 891988.0, 900180.0, 922710.0, 920666.0, 930908.0, 930910.0, 902238.0, 930912.0, 900192.0, 900194.0, 930914.0, 947304.0, 959596.0, 951408.0, 953458.0, 885876.0, 916596.0, 928886.0, 953462.0, 928888.0, 953464.0, 945274.0, 953460.0, 892028.0, 945278.0, 945280.0, 885890.0, 920706.0, 945282.0, 945284.0, 945286.0, 963716.0, 941192.0, 945288.0, 945290.0, 916618.0, 945294.0, 920720.0, 945296.0, 945298.0, 945302.0, 920726.0, 920728.0, 945304.0, 906392.0, 906394.0, 906396.0, 920732.0, 945310.0, 945308.0, 906400.0, 945312.0, 945314.0, 906398.0, 906404.0, 945316.0, 906406.0, 945318.0, 906408.0, 945320.0, 906410.0, 945322.0, 945324.0, 906412.0, 949420.0, 906416.0, 906418.0, 906420.0, 910520.0, 883898.0, 910524.0, 910530.0, 914626.0, 910532.0, 937156.0, 914630.0, 951492.0, 914636.0, 939212.0, 933070.0, 939218.0, 951506.0, 951508.0, 939222.0, 939224.0, 958456.0, 958458.0, 883940.0, 939236.0, 883942.0, 958460.0, 900352.0, 924928.0, 910594.0, 900354.0, 924930.0, 924932.0, 920838.0, 924934.0, 924940.0, 894224.0, 894226.0, 924946.0, 920852.0, 924948.0, 924950.0, 894230.0, 879896.0, 947480.0, 879898.0, 894232.0, 924952.0, 924956.0, 924958.0, 924954.0, 924960.0, 935216.0, 920902.0, 941384.0, 892536.0, 935244.0, 941390.0, 935246.0, 912722.0, 951648.0, 908640.0, 935264.0, 951650.0, 920928.0, 918888.0, 900458.0, 939370.0, 902510.0, 898414.0, 939376.0, 890226.0, 890228.0, 898422.0, 890232.0, 890234.0, 933244.0, 896382.0, 896384.0, 914816.0, 886146.0, 896386.0, 902532.0, 898434.0, 896390.0, 947590.0, 947592.0, 937352.0, 900492.0, 947596.0, 947598.0, 947600.0, 937362.0, 947604.0, 880020.0, 880022.0, 937366.0, 937368.0, 880026.0, 937370.0, 880028.0, 937372.0, 947614.0, 947610.0, 947616.0, 914848.0, 947618.0, 947612.0, 947620.0, 927142.0, 896428.0, 955820.0, 896430.0, 908718.0, 925104.0, 918958.0, 918956.0, 935348.0, 947636.0, 947638.0, 914870.0, 906680.0, 947640.0, 947642.0, 947644.0, 947646.0, 947648.0, 918978.0, 947650.0, 947652.0, 947654.0, 918986.0, 947658.0, 929228.0, 918988.0, 939470.0, 925134.0, 902608.0, 906402.0, 939474.0, 937422.0, 939476.0, 937428.0, 939478.0, 968150.0, 937432.0, 937430.0, 957922.0, 921062.0, 900592.0, 900594.0, 970240.0, 970244.0, 900614.0, 970250.0, 921102.0, 970254.0, 966158.0, 970258.0, 896536.0, 921116.0, 908834.0, 890402.0, 890404.0, 890406.0, 890410.0, 890412.0, 890416.0, 890420.0, 890422.0, 910902.0, 941628.0, 902720.0, 945728.0, 933452.0, 902742.0, 919126.0, 902744.0, 919128.0, 902746.0, 888406.0, 902748.0, 947816.0, 947818.0, 947820.0, 880240.0, 906866.0, 923250.0, 892530.0, 892532.0, 892534.0, 902774.0, 902776.0, 923254.0, 919162.0, 972410.0, 892538.0, 972412.0, 902782.0, 902778.0, 919164.0, 919166.0, 931458.0, 935548.0, 937604.0, 900742.0, 900746.0, 929424.0, 929426.0, 968338.0, 919188.0, 929428.0, 919190.0, 919192.0, 919194.0, 919196.0, 908958.0, 919198.0, 908960.0, 919200.0, 919202.0, 919204.0, 939684.0, 919206.0, 941736.0, 972460.0, 941740.0, 919214.0, 919218.0, 937650.0, 884402.0, 900788.0, 884406.0, 900790.0, 884408.0, 900792.0, 939706.0, 939698.0, 884412.0, 939708.0, 894656.0, 896708.0, 939716.0, 894662.0, 939718.0, 943818.0, 937678.0, 888532.0, 888534.0, 890582.0, 888536.0, 939736.0, 900826.0, 921306.0, 962268.0, 939738.0, 888538.0, 888540.0, 921316.0, 921318.0, 945894.0, 921320.0, 954086.0, 909308.0, 945900.0, 945902.0, 937708.0, 945904.0, 937710.0, 917234.0, 939762.0, 941810.0, 970484.0, 970486.0, 937716.0, 941816.0, 937720.0, 890618.0, 884478.0, 941826.0, 937732.0, 917252.0, 919302.0, 929542.0, 937736.0, 929544.0, 919306.0, 919310.0, 941838.0, 937742.0, 919314.0, 941842.0, 941844.0, 919318.0, 937750.0, 937752.0, 900892.0, 900894.0, 911136.0, 937760.0, 911138.0, 937762.0, 960294.0, 960296.0, 937770.0, 937772.0, 937774.0, 882478.0, 952114.0, 937778.0, 937780.0, 952116.0, 937782.0, 937786.0, 937788.0, 919362.0, 919364.0, 919370.0, 919372.0, 898892.0, 909134.0, 919374.0, 919376.0, 937808.0, 919378.0, 937810.0, 937812.0, 919382.0, 898902.0, 929622.0, 898906.0, 929626.0, 919390.0, 898920.0, 939886.0, 956276.0, 937854.0, 892800.0, 937856.0, 917378.0, 937860.0, 952196.0, 923526.0, 937862.0, 923528.0, 937864.0, 956298.0, 937868.0, 937870.0, 905104.0, 937872.0, 937874.0, 946072.0, 964510.0, 915358.0, 919456.0, 937888.0, 915360.0, 907174.0, 919464.0, 907178.0, 937898.0, 901034.0, 907180.0, 933806.0, 937902.0, 901038.0, 907182.0, 933810.0, 954284.0, 919476.0, 937900.0, 948150.0, 919482.0, 919490.0, 917446.0, 911310.0, 954318.0, 919504.0, 958416.0, 958418.0, 948182.0, 894934.0, 907224.0, 958430.0, 958432.0, 958434.0, 937956.0, 921574.0, 937958.0, 937960.0, 958440.0, 958444.0, 937966.0, 921584.0, 919536.0, 958452.0, 958454.0, 921592.0, 921594.0, 921596.0, 882686.0]\n"
          ]
        }
      ]
    },
    {
      "cell_type": "markdown",
      "source": [
        "# **PLAN DE TRABAJO**"
      ],
      "metadata": {
        "id": "Yo2WD6mrRFSn"
      }
    },
    {
      "cell_type": "markdown",
      "source": [
        "**Conclusiones:**\n",
        "\n",
        "\n",
        "\n",
        "*   Los operadores con mayor número de llamadas entrantes parecen concentrar la mayoría de las interacciones, lo que podría indicar problemas de distribución de carga laboral.\n",
        "*   Algunos operadores manejan tanto llamadas internas como externas, lo que podría causar sobrecarga y afectar su eficiencia.\n",
        "\n",
        "\n",
        "*   Los operadores con altos tiempos de espera tienden a coincidir con aquellos que manejan un gran volumen de llamadas.\n",
        "*   Existe un grupo de operadores con tiempos de espera significativamente mayores, lo que podría deberse a falta de preparación para resolver consultas o procesos lentos.\n",
        "\n",
        "\n",
        "*   Los operadores con pocas llamadas salientes podrían estar mal asignados o realizar funciones más administrativas.\n",
        "\n",
        "Los operadores ineficaces comparten patrones en común como: Sobrecarga de llamadas entrantes combinado con altos tiempos de espera y asignación ineficiente de roles en las llamadas salientes\n"
      ],
      "metadata": {
        "id": "gwRk6GIHRHlK"
      }
    },
    {
      "cell_type": "markdown",
      "source": [
        "**Propuesta de técnica de minería de datos para la Evidencia 2:**\n",
        "\n",
        "Para llevar a cabo nuestro análisis, utilizaremos técnicas de clustering y regresión lineal.\n",
        "\n",
        "El clustering nos permitirá agrupar a los operadores según características similares, como el número de llamadas atendidas, llamadas perdidas y duración de las llamadas. Esto facilitará la identificación de patrones y la segmentación de los operadores ineficaces.\n",
        "\n",
        "Por otro lado, la regresión lineal se utilizará para analizar la relación entre variables clave, como el tiempo de espera y la cantidad de llamadas atendidas, lo que nos ayudará a predecir la eficiencia de los operadores y a establecer métricas de rendimiento.\n",
        "\n",
        "Combinando estas dos metodologías, podremos obtener una visión más completa y fundamentada sobre la eficiencia operativa en CallMeMaybe."
      ],
      "metadata": {
        "id": "cHXB66bcScCf"
      }
    }
  ],
  "metadata": {
    "colab": {
      "provenance": [],
      "include_colab_link": true
    },
    "kernelspec": {
      "display_name": "Python 3",
      "name": "python3"
    },
    "language_info": {
      "name": "python"
    }
  },
  "nbformat": 4,
  "nbformat_minor": 0
}